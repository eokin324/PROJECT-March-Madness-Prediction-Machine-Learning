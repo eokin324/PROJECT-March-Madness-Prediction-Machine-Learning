{
 "cells": [
  {
   "cell_type": "markdown",
   "metadata": {
    "colab_type": "text",
    "id": "view-in-github"
   },
   "source": [
    "<a href=\"https://colab.research.google.com/github/dandiario/ds_spring_2020/blob/master/March_Madness_Project.ipynb\" target=\"_parent\"><img src=\"https://colab.research.google.com/assets/colab-badge.svg\" alt=\"Open In Colab\"/></a>"
   ]
  },
  {
   "cell_type": "markdown",
   "metadata": {
    "colab_type": "text",
    "id": "HRR7qz8K0XOC"
   },
   "source": [
    "# Data Science Final Project - March Madness Prediction"
   ]
  },
  {
   "cell_type": "markdown",
   "metadata": {
    "colab_type": "text",
    "id": "ciobwgby0XOD"
   },
   "source": [
    "## David Andiario and Evan Okin"
   ]
  },
  {
   "cell_type": "markdown",
   "metadata": {
    "colab_type": "text",
    "id": "LyGQD1j00XOE"
   },
   "source": [
    "## May 2020"
   ]
  },
  {
   "cell_type": "markdown",
   "metadata": {
    "colab_type": "text",
    "id": "g6yAjAia0XOF"
   },
   "source": [
    "## Overview"
   ]
  },
  {
   "cell_type": "markdown",
   "metadata": {
    "colab_type": "text",
    "id": "0ab-uzN30XOG"
   },
   "source": [
    "The following report is broken up into several sections:\n",
    "\n",
    "Section 1: Defining the Business Problem\n",
    "\n",
    "Section 2: Exploring the Data\n",
    "\n",
    "Section 3: Machine Learning and Prediction (Without Rating)\n",
    "\n",
    "Section 4: Machine Learning and Prediction (With Rating)\n",
    "\n",
    "Section 5: Deploying the Model\n",
    "\n",
    "Section 6: Conclusion"
   ]
  },
  {
   "cell_type": "markdown",
   "metadata": {
    "colab_type": "text",
    "id": "YCFzBl7E0XOH"
   },
   "source": [
    "## Section 1: Defining the Business Problem"
   ]
  },
  {
   "cell_type": "markdown",
   "metadata": {
    "colab_type": "text",
    "id": "NZVi9Vpe0XOI"
   },
   "source": [
    "The University of Michigan wants to understand what strategies are needed to win in the NCAA March Madness Tournament. We were hired as analysts because they believe if they can find an important strategy to win, it would bring in more fans, higher profits for the school, and increase brand recognition for the University of Michigan, which in turn will lead to a stronger applicant pool (Go Blue)."
   ]
  },
  {
   "cell_type": "markdown",
   "metadata": {
    "colab_type": "text",
    "id": "Q9GuJdo20XOJ"
   },
   "source": [
    "## Approach"
   ]
  },
  {
   "cell_type": "markdown",
   "metadata": {
    "colab_type": "text",
    "id": "JMoS7j0P0XOK"
   },
   "source": [
    "We are tackling a classification problem (can we predict if a given team will win in the NCAA tournament, based on regular season results). We have a vast amount of box score data (eg points, rebounds, assists, steals) for Division 1 games dating back to 1984. We will use box score data as \"features.\" We will use an ID for each school, randomized so that we have balance (a lower ID team is equally likely to beat a higher ID team). The target variable will be whether or not the lower ID ranked team won the game, given the features. Thus we will have a balanced dataset and will (at least initially) start by analyzing accuracy. We will then expand our approach to see how much money our accuracy would translate to, within an expected value framework."
   ]
  },
  {
   "cell_type": "markdown",
   "metadata": {
    "colab_type": "text",
    "id": "uAUe_mBAr1q4"
   },
   "source": [
    "## Data Source"
   ]
  },
  {
   "cell_type": "markdown",
   "metadata": {
    "colab_type": "text",
    "id": "AJAIFvMur1q9"
   },
   "source": [
    "We utilized a trove of information from the following source, https://www.kaggle.com/c/google-cloud-ncaa-march-madness-2020-division-1-mens-tournament/data."
   ]
  },
  {
   "cell_type": "markdown",
   "metadata": {
    "colab_type": "text",
    "id": "CwF3Afp8r1rB"
   },
   "source": [
    "## Section 2: Exploring the Data"
   ]
  },
  {
   "cell_type": "markdown",
   "metadata": {},
   "source": [
    "In this section we explore the data that we have available. We describe the variables that we have at our disposal and produce visualizations using the data."
   ]
  },
  {
   "cell_type": "markdown",
   "metadata": {
    "colab_type": "text",
    "id": "sRqLRQUEr1rG"
   },
   "source": [
    "Import necessary libraries."
   ]
  },
  {
   "cell_type": "code",
   "execution_count": 185,
   "metadata": {
    "colab": {},
    "colab_type": "code",
    "id": "yZPf3f-Zr1rI"
   },
   "outputs": [],
   "source": [
    "import pandas as pd\n",
    "import numpy as np\n",
    "import matplotlib.pyplot as plt\n",
    "%matplotlib inline\n",
    "import warnings\n",
    "warnings.filterwarnings(\"ignore\")"
   ]
  },
  {
   "cell_type": "markdown",
   "metadata": {
    "colab_type": "text",
    "id": "u4t8sRq-r1rR"
   },
   "source": [
    "Load in the dataframe."
   ]
  },
  {
   "cell_type": "code",
   "execution_count": 186,
   "metadata": {
    "colab": {},
    "colab_type": "code",
    "id": "RIiu4iJzr1rU"
   },
   "outputs": [],
   "source": [
    "df_tournament = pd.read_csv('MNCAATourneyDetailedResults.csv')"
   ]
  },
  {
   "cell_type": "markdown",
   "metadata": {
    "colab_type": "text",
    "id": "o25rdA1gr1ra"
   },
   "source": [
    "Preview the dataframe."
   ]
  },
  {
   "cell_type": "code",
   "execution_count": 187,
   "metadata": {
    "colab": {
     "base_uri": "https://localhost:8080/",
     "height": 162
    },
    "colab_type": "code",
    "id": "YyUAjoY4r1re",
    "outputId": "90213f74-f3d6-4f96-dc8e-4ef07f05d6e4"
   },
   "outputs": [
    {
     "data": {
      "text/html": [
       "<div>\n",
       "<style scoped>\n",
       "    .dataframe tbody tr th:only-of-type {\n",
       "        vertical-align: middle;\n",
       "    }\n",
       "\n",
       "    .dataframe tbody tr th {\n",
       "        vertical-align: top;\n",
       "    }\n",
       "\n",
       "    .dataframe thead th {\n",
       "        text-align: right;\n",
       "    }\n",
       "</style>\n",
       "<table border=\"1\" class=\"dataframe\">\n",
       "  <thead>\n",
       "    <tr style=\"text-align: right;\">\n",
       "      <th></th>\n",
       "      <th>Season</th>\n",
       "      <th>DayNum</th>\n",
       "      <th>WTeamID</th>\n",
       "      <th>WScore</th>\n",
       "      <th>LTeamID</th>\n",
       "      <th>LScore</th>\n",
       "      <th>WLoc</th>\n",
       "      <th>NumOT</th>\n",
       "      <th>WFGM</th>\n",
       "      <th>WFGA</th>\n",
       "      <th>...</th>\n",
       "      <th>LFGA3</th>\n",
       "      <th>LFTM</th>\n",
       "      <th>LFTA</th>\n",
       "      <th>LOR</th>\n",
       "      <th>LDR</th>\n",
       "      <th>LAst</th>\n",
       "      <th>LTO</th>\n",
       "      <th>LStl</th>\n",
       "      <th>LBlk</th>\n",
       "      <th>LPF</th>\n",
       "    </tr>\n",
       "  </thead>\n",
       "  <tbody>\n",
       "    <tr>\n",
       "      <th>0</th>\n",
       "      <td>2003</td>\n",
       "      <td>134</td>\n",
       "      <td>1421</td>\n",
       "      <td>92</td>\n",
       "      <td>1411</td>\n",
       "      <td>84</td>\n",
       "      <td>N</td>\n",
       "      <td>1</td>\n",
       "      <td>32</td>\n",
       "      <td>69</td>\n",
       "      <td>...</td>\n",
       "      <td>31</td>\n",
       "      <td>14</td>\n",
       "      <td>31</td>\n",
       "      <td>17</td>\n",
       "      <td>28</td>\n",
       "      <td>16</td>\n",
       "      <td>15</td>\n",
       "      <td>5</td>\n",
       "      <td>0</td>\n",
       "      <td>22</td>\n",
       "    </tr>\n",
       "    <tr>\n",
       "      <th>1</th>\n",
       "      <td>2003</td>\n",
       "      <td>136</td>\n",
       "      <td>1112</td>\n",
       "      <td>80</td>\n",
       "      <td>1436</td>\n",
       "      <td>51</td>\n",
       "      <td>N</td>\n",
       "      <td>0</td>\n",
       "      <td>31</td>\n",
       "      <td>66</td>\n",
       "      <td>...</td>\n",
       "      <td>16</td>\n",
       "      <td>7</td>\n",
       "      <td>7</td>\n",
       "      <td>8</td>\n",
       "      <td>26</td>\n",
       "      <td>12</td>\n",
       "      <td>17</td>\n",
       "      <td>10</td>\n",
       "      <td>3</td>\n",
       "      <td>15</td>\n",
       "    </tr>\n",
       "    <tr>\n",
       "      <th>2</th>\n",
       "      <td>2003</td>\n",
       "      <td>136</td>\n",
       "      <td>1113</td>\n",
       "      <td>84</td>\n",
       "      <td>1272</td>\n",
       "      <td>71</td>\n",
       "      <td>N</td>\n",
       "      <td>0</td>\n",
       "      <td>31</td>\n",
       "      <td>59</td>\n",
       "      <td>...</td>\n",
       "      <td>28</td>\n",
       "      <td>14</td>\n",
       "      <td>21</td>\n",
       "      <td>20</td>\n",
       "      <td>22</td>\n",
       "      <td>11</td>\n",
       "      <td>12</td>\n",
       "      <td>2</td>\n",
       "      <td>5</td>\n",
       "      <td>18</td>\n",
       "    </tr>\n",
       "  </tbody>\n",
       "</table>\n",
       "<p>3 rows × 34 columns</p>\n",
       "</div>"
      ],
      "text/plain": [
       "   Season  DayNum  WTeamID  WScore  LTeamID  LScore WLoc  NumOT  WFGM  WFGA  \\\n",
       "0    2003     134     1421      92     1411      84    N      1    32    69   \n",
       "1    2003     136     1112      80     1436      51    N      0    31    66   \n",
       "2    2003     136     1113      84     1272      71    N      0    31    59   \n",
       "\n",
       "   ...  LFGA3  LFTM  LFTA  LOR  LDR  LAst  LTO  LStl  LBlk  LPF  \n",
       "0  ...     31    14    31   17   28    16   15     5     0   22  \n",
       "1  ...     16     7     7    8   26    12   17    10     3   15  \n",
       "2  ...     28    14    21   20   22    11   12     2     5   18  \n",
       "\n",
       "[3 rows x 34 columns]"
      ]
     },
     "execution_count": 187,
     "metadata": {},
     "output_type": "execute_result"
    }
   ],
   "source": [
    "df_tournament.head(3)"
   ]
  },
  {
   "cell_type": "markdown",
   "metadata": {
    "colab_type": "text",
    "id": "2mKq-AMDr1rs"
   },
   "source": [
    "And now the smaller version."
   ]
  },
  {
   "cell_type": "code",
   "execution_count": 188,
   "metadata": {
    "colab": {},
    "colab_type": "code",
    "id": "VqTsQy7jr1ru"
   },
   "outputs": [],
   "source": [
    "df_tournament_compact = pd.read_csv('MNCAATourneyCompactResults.csv')"
   ]
  },
  {
   "cell_type": "code",
   "execution_count": 189,
   "metadata": {
    "colab": {
     "base_uri": "https://localhost:8080/",
     "height": 142
    },
    "colab_type": "code",
    "id": "6foc8mc9r1sT",
    "outputId": "cb90046e-fa03-4b22-ba70-d4cb4e7450af"
   },
   "outputs": [],
   "source": [
    "%%capture\n",
    "df_tournament_compact.head(3)"
   ]
  },
  {
   "cell_type": "markdown",
   "metadata": {
    "colab_type": "text",
    "id": "BNkxNMSjr1si"
   },
   "source": [
    "We will want to analyze as many features as possible for our Machine Learning model. Thus, we will do the majority of our work on the detailed dataset. We will load in info on historical games to help feed our training model."
   ]
  },
  {
   "cell_type": "code",
   "execution_count": 190,
   "metadata": {
    "colab": {},
    "colab_type": "code",
    "id": "E6VeN700r1sn"
   },
   "outputs": [],
   "source": [
    "df_master = pd.read_csv('MRegularSeasonDetailedResults.csv')"
   ]
  },
  {
   "cell_type": "markdown",
   "metadata": {
    "colab_type": "text",
    "id": "C06STySmr1s0"
   },
   "source": [
    "We also have player specific information."
   ]
  },
  {
   "cell_type": "code",
   "execution_count": 191,
   "metadata": {
    "colab": {},
    "colab_type": "code",
    "id": "83f7hMsVr1s3"
   },
   "outputs": [],
   "source": [
    "df_players = pd.read_csv('MPlayers.csv')"
   ]
  },
  {
   "cell_type": "code",
   "execution_count": 192,
   "metadata": {
    "colab": {
     "base_uri": "https://localhost:8080/",
     "height": 142
    },
    "colab_type": "code",
    "id": "tkJVnuvJr1s9",
    "outputId": "d129670a-f22c-4266-d815-59db375522bf"
   },
   "outputs": [],
   "source": [
    "%%capture\n",
    "df_players.head(3)"
   ]
  },
  {
   "cell_type": "markdown",
   "metadata": {
    "colab_type": "text",
    "id": "yMvBvmqDr1tC"
   },
   "source": [
    "Let's explore our master dataset."
   ]
  },
  {
   "cell_type": "code",
   "execution_count": 193,
   "metadata": {
    "colab": {
     "base_uri": "https://localhost:8080/",
     "height": 34
    },
    "colab_type": "code",
    "id": "pKxKKg9pr1tF",
    "outputId": "d515ffd6-c796-4361-9482-1d5484941516"
   },
   "outputs": [
    {
     "name": "stdout",
     "output_type": "stream",
     "text": [
      "Number of rows of data:  1115\n",
      "Number of columns of data:  34\n"
     ]
    }
   ],
   "source": [
    "print('Number of rows of data: ', df_tournament.shape[0])\n",
    "print('Number of columns of data: ', df_tournament.shape[1])"
   ]
  },
  {
   "cell_type": "code",
   "execution_count": 194,
   "metadata": {
    "colab": {
     "base_uri": "https://localhost:8080/",
     "height": 102
    },
    "colab_type": "code",
    "id": "Awa6Y4mdr1tU",
    "outputId": "6c9183ef-8a4c-44b9-8bc7-34b1b22dd35c"
   },
   "outputs": [
    {
     "name": "stdout",
     "output_type": "stream",
     "text": [
      "List of Columns with data:  ['Season', 'DayNum', 'WTeamID', 'WScore', 'LTeamID', 'LScore', 'WLoc', 'NumOT', 'WFGM', 'WFGA', 'WFGM3', 'WFGA3', 'WFTM', 'WFTA', 'WOR', 'WDR', 'WAst', 'WTO', 'WStl', 'WBlk', 'WPF', 'LFGM', 'LFGA', 'LFGM3', 'LFGA3', 'LFTM', 'LFTA', 'LOR', 'LDR', 'LAst', 'LTO', 'LStl', 'LBlk', 'LPF']\n"
     ]
    }
   ],
   "source": [
    "print('List of Columns with data: ' ,list(df_tournament.columns))"
   ]
  },
  {
   "cell_type": "code",
   "execution_count": 195,
   "metadata": {
    "colab": {
     "base_uri": "https://localhost:8080/",
     "height": 323
    },
    "colab_type": "code",
    "id": "6NrbcgKIr1ti",
    "outputId": "c5c21687-e504-4814-952e-d0bc2598552b"
   },
   "outputs": [
    {
     "data": {
      "text/plain": [
       "Text(0, 0.5, 'Number of Games')"
      ]
     },
     "execution_count": 195,
     "metadata": {},
     "output_type": "execute_result"
    },
    {
     "data": {
      "image/png": "[encoded data removed]",
      "text/plain": [
       "<Figure size 432x288 with 1 Axes>"
      ]
     },
     "metadata": {
      "needs_background": "light"
     },
     "output_type": "display_data"
    }
   ],
   "source": [
    "df_tournament['Season'].value_counts().plot(kind='bar')\n",
    "plt.title('Figure 1: Number of Games Per Season With Data')\n",
    "plt.xlabel('Year')\n",
    "plt.ylabel('Number of Games')"
   ]
  },
  {
   "cell_type": "code",
   "execution_count": 196,
   "metadata": {
    "colab": {
     "base_uri": "https://localhost:8080/",
     "height": 162
    },
    "colab_type": "code",
    "id": "KixoBFkor1to",
    "outputId": "f31c64af-932c-4e4d-e6c3-2ca52e990882"
   },
   "outputs": [],
   "source": [
    "df_master.head(3);"
   ]
  },
  {
   "cell_type": "code",
   "execution_count": 197,
   "metadata": {
    "colab": {
     "base_uri": "https://localhost:8080/",
     "height": 34
    },
    "colab_type": "code",
    "id": "Y5-yF5xQr1tv",
    "outputId": "2a7e0776-2100-49cc-e7f1-66a72e27f679"
   },
   "outputs": [
    {
     "name": "stdout",
     "output_type": "stream",
     "text": [
      "Number of rows of data:  87504\n",
      "Number of columns of data:  34\n"
     ]
    },
    {
     "data": {
      "text/plain": [
       "(87504, 34)"
      ]
     },
     "execution_count": 197,
     "metadata": {},
     "output_type": "execute_result"
    }
   ],
   "source": [
    "print('Number of rows of data: ', df_master.shape[0])\n",
    "print('Number of columns of data: ', df_master.shape[1])\n",
    "df_master.shape"
   ]
  },
  {
   "cell_type": "code",
   "execution_count": 198,
   "metadata": {
    "colab": {
     "base_uri": "https://localhost:8080/",
     "height": 34
    },
    "colab_type": "code",
    "id": "W55CogM7r1uH",
    "outputId": "0807e011-b606-49d1-fbb5-04cf2b487d9c"
   },
   "outputs": [
    {
     "name": "stdout",
     "output_type": "stream",
     "text": [
      "Confirm that our columns of data match :  True\n"
     ]
    }
   ],
   "source": [
    "print('Confirm that our columns of data match : ' ,len(df_master.columns)==len(df_tournament.columns))"
   ]
  },
  {
   "cell_type": "code",
   "execution_count": 199,
   "metadata": {
    "colab": {
     "base_uri": "https://localhost:8080/",
     "height": 85
    },
    "colab_type": "code",
    "id": "PGkThyUOr1uK",
    "outputId": "05778500-e734-42b1-95ba-154bce49621d"
   },
   "outputs": [],
   "source": [
    "df_master.columns==df_tournament.columns;"
   ]
  },
  {
   "cell_type": "code",
   "execution_count": 200,
   "metadata": {
    "colab": {},
    "colab_type": "code",
    "id": "SInHePYTr1uO"
   },
   "outputs": [],
   "source": [
    "for i in df_master.columns:\n",
    "    if df_master[i].isna().sum()>0:\n",
    "        print(i,df_master[i].isna().sum())"
   ]
  },
  {
   "cell_type": "markdown",
   "metadata": {
    "colab_type": "text",
    "id": "27F1UC0Br1uU"
   },
   "source": [
    "Nothing printed, because the data is very clean, nothing null in this dataset."
   ]
  },
  {
   "cell_type": "code",
   "execution_count": 201,
   "metadata": {
    "colab": {
     "base_uri": "https://localhost:8080/",
     "height": 102
    },
    "colab_type": "code",
    "id": "7t_l9HrMr1uY",
    "outputId": "abe28582-7142-4aa8-c5bf-647c5563de95"
   },
   "outputs": [
    {
     "name": "stdout",
     "output_type": "stream",
     "text": [
      "List of Columns with data:  ['Season', 'DayNum', 'WTeamID', 'WScore', 'LTeamID', 'LScore', 'WLoc', 'NumOT', 'WFGM', 'WFGA', 'WFGM3', 'WFGA3', 'WFTM', 'WFTA', 'WOR', 'WDR', 'WAst', 'WTO', 'WStl', 'WBlk', 'WPF', 'LFGM', 'LFGA', 'LFGM3', 'LFGA3', 'LFTM', 'LFTA', 'LOR', 'LDR', 'LAst', 'LTO', 'LStl', 'LBlk', 'LPF']\n"
     ]
    }
   ],
   "source": [
    "print('List of Columns with data: ' ,list(df_master.columns))"
   ]
  },
  {
   "cell_type": "markdown",
   "metadata": {
    "colab_type": "text",
    "id": "0bbl04QAr1uc"
   },
   "source": [
    "Season - this is the year of the associated entry in MSeasons.csv (the year in which the final tournament occurs). For example, during the 2016 season, there were regular season games played between November 2015 and March 2016, and all of those games will show up with a Season of 2016."
   ]
  },
  {
   "cell_type": "code",
   "execution_count": 202,
   "metadata": {
    "colab": {
     "base_uri": "https://localhost:8080/",
     "height": 328
    },
    "colab_type": "code",
    "id": "2YffAhler1us",
    "outputId": "9edc4e53-5fb7-4844-82b8-e2ee6b24e3c8"
   },
   "outputs": [
    {
     "data": {
      "text/plain": [
       "Text(0, 0.5, 'Number of Games')"
      ]
     },
     "execution_count": 202,
     "metadata": {},
     "output_type": "execute_result"
    },
    {
     "data": {
      "image/png": "[encoded data removed]",
      "text/plain": [
       "<Figure size 432x288 with 1 Axes>"
      ]
     },
     "metadata": {
      "needs_background": "light"
     },
     "output_type": "display_data"
    }
   ],
   "source": [
    "df_master['Season'].value_counts().plot(kind='bar')\n",
    "plt.title('Figure 2: Games With Data Per Season')\n",
    "plt.xlabel('Year')\n",
    "plt.ylabel('Number of Games')"
   ]
  },
  {
   "cell_type": "markdown",
   "metadata": {
    "colab_type": "text",
    "id": "vQ9NTjrbneHv"
   },
   "source": [
    "We have the following variables for our machine learning models, which we have separately explored but do not show here."
   ]
  },
  {
   "cell_type": "markdown",
   "metadata": {
    "colab_type": "text",
    "id": "_HvW3CUMr1ux"
   },
   "source": [
    "DayNum - this integer always ranges from 0 to 132, and tells you what day the game was played on. It represents an offset from the \"DayZero\" date in the \"MSeasons.csv\" file. For example, the first game in the file was DayNum=20. Combined with the fact from the \"MSeasons.csv\" file that day zero was 10/29/1984 that year, this means the first game was played 20 days later, or 11/18/1984. There are no teams that ever played more than one game on a given date, so you can use this fact if you need a unique key (combining Season and DayNum and WTeamID). In order to accomplish this uniqueness, we had to adjust one game's date. In March 2008, the SEC postseason tournament had to reschedule one game (Georgia-Kentucky) to a subsequent day because of a tornado, so Georgia had to actually play two games on the same day. In order to enforce this uniqueness, we moved the game date for the Georgia-Kentucky game back to its original scheduled date."
   ]
  },
  {
   "cell_type": "markdown",
   "metadata": {
    "colab_type": "text",
    "id": "HOREwBA-r1u5"
   },
   "source": [
    "WTeamID - this identifies the id number of the team that won the game, as listed in the \"MTeams.csv\" file. No matter whether the game was won by the home team or visiting team, or if it was a neutral-site game, the \"WTeamID\" always identifies the winning team."
   ]
  },
  {
   "cell_type": "markdown",
   "metadata": {
    "colab_type": "text",
    "id": "zz2JKslur1u_"
   },
   "source": [
    "WScore - this identifies the number of points scored by the winning team."
   ]
  },
  {
   "cell_type": "markdown",
   "metadata": {
    "colab_type": "text",
    "id": "rw7OEfqlr1vD"
   },
   "source": [
    "LTeamID - this identifies the id number of the team that lost the game."
   ]
  },
  {
   "cell_type": "markdown",
   "metadata": {
    "colab_type": "text",
    "id": "Se4Ng7wEr1vJ"
   },
   "source": [
    "LScore - this identifies the number of points scored by the losing team. Thus you can be confident that WScore will be greater than LScore for all games listed."
   ]
  },
  {
   "cell_type": "markdown",
   "metadata": {
    "colab_type": "text",
    "id": "fqNcceF_r1vR"
   },
   "source": [
    "WLoc - this identifies the \"location\" of the winning team. If the winning team was the home team, this value will be \"H\". If the winning team was the visiting team, this value will be \"A\". If it was played on a neutral court, then this value will be \"N\". Sometimes it is unclear whether the site should be considered neutral, since it is near one team's home court, or even on their court during a tournament, but for this determination we have simply used the Kenneth Massey data in its current state, where the \"@\" sign is either listed with the winning team, the losing team, or neither team. If you would like to investigate this factor more closely, we invite you to explore Data Section 3, which provides the city that each game was played in, irrespective of whether it was considered to be a neutral site."
   ]
  },
  {
   "cell_type": "code",
   "execution_count": 203,
   "metadata": {
    "colab": {
     "base_uri": "https://localhost:8080/",
     "height": 283
    },
    "colab_type": "code",
    "id": "D1dZgsYBr1vV",
    "outputId": "d7d1e4c5-ac7e-4dfd-9462-75d7d3106f88"
   },
   "outputs": [
    {
     "data": {
      "image/png": "[encoded data removed]",
      "text/plain": [
       "<Figure size 360x360 with 1 Axes>"
      ]
     },
     "metadata": {},
     "output_type": "display_data"
    },
    {
     "data": {
      "text/plain": [
       "['Home', 'Away', 'Neutral']"
      ]
     },
     "execution_count": 203,
     "metadata": {},
     "output_type": "execute_result"
    }
   ],
   "source": [
    "labels=['Home','Away','Neutral']\n",
    "sizes=df_master['WLoc'].value_counts().values\n",
    "colors=['lightblue','pink','gold']\n",
    "explode=[0,0,0]\n",
    "plt.style.use('seaborn-pastel')\n",
    "plt.figure(figsize=(5,5))\n",
    "plt.pie(sizes,explode=explode,labels=labels,colors=colors,autopct= '%1.0f%%')\n",
    "plt.title('Figure 3: Games Won By Location',fontsize=15)\n",
    "plt.show()\n",
    "labels"
   ]
  },
  {
   "cell_type": "markdown",
   "metadata": {
    "colab_type": "text",
    "id": "2yzhTH41r1vc"
   },
   "source": [
    "NumOT - this indicates the number of overtime periods in the game, an integer 0 or higher."
   ]
  },
  {
   "cell_type": "code",
   "execution_count": 204,
   "metadata": {
    "colab": {
     "base_uri": "https://localhost:8080/",
     "height": 153
    },
    "colab_type": "code",
    "id": "eXLS47pHr1ve",
    "outputId": "f7873a53-cbce-4e0f-dca7-10350eed7c64"
   },
   "outputs": [
    {
     "name": "stdout",
     "output_type": "stream",
     "text": [
      "Distribution of Games and Number of Overtimes\n"
     ]
    },
    {
     "data": {
      "text/plain": [
       "0   0.94%\n",
       "1   0.05%\n",
       "2   0.01%\n",
       "3   0.00%\n",
       "4   0.00%\n",
       "5   0.00%\n",
       "6   0.00%\n",
       "Name: NumOT, dtype: float64"
      ]
     },
     "execution_count": 204,
     "metadata": {},
     "output_type": "execute_result"
    }
   ],
   "source": [
    "print('Distribution of Games and Number of Overtimes')\n",
    "round(df_master['NumOT'].value_counts(normalize=True),5)"
   ]
  },
  {
   "cell_type": "markdown",
   "metadata": {
    "colab_type": "text",
    "id": "1CYpmphVr1vm"
   },
   "source": [
    "WFGM - field goals made (by the winning team)"
   ]
  },
  {
   "cell_type": "markdown",
   "metadata": {
    "colab_type": "text",
    "id": "SPTRs7Pbr1vr"
   },
   "source": [
    "WFGA - field goals attempted (by the winning team)"
   ]
  },
  {
   "cell_type": "markdown",
   "metadata": {
    "colab_type": "text",
    "id": "I8BsMZpqr1vy"
   },
   "source": [
    "WFGM3 - three pointers made (by the winning team)"
   ]
  },
  {
   "cell_type": "markdown",
   "metadata": {
    "colab_type": "text",
    "id": "0QDM80Jnr1v6"
   },
   "source": [
    "WFGA3 - three pointers attempted (by the winning team)"
   ]
  },
  {
   "cell_type": "markdown",
   "metadata": {
    "colab_type": "text",
    "id": "1c-H6bBVr1wA"
   },
   "source": [
    "WFTM - free throws made (by the winning team)"
   ]
  },
  {
   "cell_type": "markdown",
   "metadata": {
    "colab_type": "text",
    "id": "En4SoWBir1wL"
   },
   "source": [
    "WFTA - free throws attempted (by the winning team)"
   ]
  },
  {
   "cell_type": "markdown",
   "metadata": {
    "colab_type": "text",
    "id": "9wvM0gIsr1wP"
   },
   "source": [
    "WOR - offensive rebounds (pulled by the winning team)"
   ]
  },
  {
   "cell_type": "markdown",
   "metadata": {
    "colab_type": "text",
    "id": "Pff2zvOKr1wU"
   },
   "source": [
    "WDR - defensive rebounds (pulled by the winning team)"
   ]
  },
  {
   "cell_type": "markdown",
   "metadata": {
    "colab_type": "text",
    "id": "VAZp2S9Dr1wb"
   },
   "source": [
    "WAst - assists (by the winning team)"
   ]
  },
  {
   "cell_type": "markdown",
   "metadata": {
    "colab_type": "text",
    "id": "PTCJA71er1wf"
   },
   "source": [
    "WTO - turnovers committed (by the winning team)"
   ]
  },
  {
   "cell_type": "markdown",
   "metadata": {
    "colab_type": "text",
    "id": "rEkyGpU2r1wi"
   },
   "source": [
    "WStl - steals (accomplished by the winning team)"
   ]
  },
  {
   "cell_type": "markdown",
   "metadata": {
    "colab_type": "text",
    "id": "aF6NYDLSr1wm"
   },
   "source": [
    "WBlk - blocks (accomplished by the winning team)"
   ]
  },
  {
   "cell_type": "markdown",
   "metadata": {
    "colab_type": "text",
    "id": "NTnCs5Zgr1wq"
   },
   "source": [
    "WPF - personal fouls committed (by the winning team)"
   ]
  },
  {
   "cell_type": "markdown",
   "metadata": {
    "colab_type": "text",
    "id": "QuOi8g5Rr1wt"
   },
   "source": [
    "LFGM - field goals made (by the losing team)"
   ]
  },
  {
   "cell_type": "markdown",
   "metadata": {
    "colab_type": "text",
    "id": "lDCGB5WIr1wx"
   },
   "source": [
    "LFGA - field goals attempted (by the losing team)"
   ]
  },
  {
   "cell_type": "markdown",
   "metadata": {
    "colab_type": "text",
    "id": "AICVC4APr1w4"
   },
   "source": [
    "LFGM3 - three pointers made (by the losing team)"
   ]
  },
  {
   "cell_type": "markdown",
   "metadata": {
    "colab_type": "text",
    "id": "KFZIGLRdr1w7"
   },
   "source": [
    "LFGA3 - three pointers attempted (by the losing team)"
   ]
  },
  {
   "cell_type": "markdown",
   "metadata": {
    "colab_type": "text",
    "id": "4qWDwQSjr1w_"
   },
   "source": [
    "LFTM - free throws made (by the losing team)"
   ]
  },
  {
   "cell_type": "markdown",
   "metadata": {
    "colab_type": "text",
    "id": "VvMA2A2Wr1xD"
   },
   "source": [
    "LFTA - free throws attempted (by the losing team)"
   ]
  },
  {
   "cell_type": "markdown",
   "metadata": {
    "colab_type": "text",
    "id": "4gqKTMWEr1xK"
   },
   "source": [
    "LOR - offensive rebounds (pulled by the losing team)"
   ]
  },
  {
   "cell_type": "markdown",
   "metadata": {
    "colab_type": "text",
    "id": "YIICp550r1xQ"
   },
   "source": [
    "LDR - defensive rebounds (pulled by the losing team)"
   ]
  },
  {
   "cell_type": "markdown",
   "metadata": {
    "colab_type": "text",
    "id": "ch_Of2MKr1xT"
   },
   "source": [
    "LAst - assists (by the losing team)"
   ]
  },
  {
   "cell_type": "markdown",
   "metadata": {
    "colab_type": "text",
    "id": "LRcADMetr1xY"
   },
   "source": [
    "LTO - turnovers committed (by the losing team)"
   ]
  },
  {
   "cell_type": "markdown",
   "metadata": {
    "colab_type": "text",
    "id": "PCGIjNJ4r1xc"
   },
   "source": [
    "LStl - steals (accomplished by the losing team)"
   ]
  },
  {
   "cell_type": "markdown",
   "metadata": {
    "colab_type": "text",
    "id": "VgOgDkbAr1xj"
   },
   "source": [
    "LBlk - blocks (accomplished by the losing team)"
   ]
  },
  {
   "cell_type": "markdown",
   "metadata": {
    "colab_type": "text",
    "id": "dxiI7VEZr1xm"
   },
   "source": [
    "LPF - personal fouls committed (by the losing team)"
   ]
  },
  {
   "cell_type": "markdown",
   "metadata": {
    "colab_type": "text",
    "id": "oZOQa0NQuqU1"
   },
   "source": [
    "Load data from rankings to merge into the master dataset"
   ]
  },
  {
   "cell_type": "code",
   "execution_count": 205,
   "metadata": {
    "colab": {},
    "colab_type": "code",
    "id": "JMeC4R5Gu1xU"
   },
   "outputs": [],
   "source": [
    "rankings = pd.read_csv('MMasseyOrdinals.csv')"
   ]
  },
  {
   "cell_type": "code",
   "execution_count": 206,
   "metadata": {
    "colab": {
     "base_uri": "https://localhost:8080/",
     "height": 204
    },
    "colab_type": "code",
    "id": "9a7MW-TtJK_e",
    "outputId": "5c6e65b4-97fc-44dd-d4f9-8add85839917"
   },
   "outputs": [],
   "source": [
    "rankings.head();"
   ]
  },
  {
   "cell_type": "markdown",
   "metadata": {
    "colab_type": "text",
    "id": "id8m-Qo7RNRF"
   },
   "source": [
    "Regular season statistics with rankings"
   ]
  },
  {
   "cell_type": "code",
   "execution_count": 207,
   "metadata": {
    "colab": {},
    "colab_type": "code",
    "id": "0i75NhbtRqab"
   },
   "outputs": [],
   "source": [
    "stats_rankings = pd.read_csv('MRegDet_Rankings.csv')"
   ]
  },
  {
   "cell_type": "markdown",
   "metadata": {
    "colab_type": "text",
    "id": "fUxE7Iqjr1xs"
   },
   "source": [
    "# Section 3: Machine Learning and Prediction (Without Rating)"
   ]
  },
  {
   "cell_type": "markdown",
   "metadata": {
    "colab": {},
    "colab_type": "code",
    "id": "KqzlM-svneJS"
   },
   "source": [
    "In this section, we run several machine learning algorithms to predict whether or not a team will win in a head-to-head matchup. Our objective is to take box season statistics for the regular season, and use those statistics to predict whether or not a team will win against an opponent, based on the differential between the two teams' box statistics. We spend some time setting up our variables properly, and then explore classification predictions under various algorithms."
   ]
  },
  {
   "cell_type": "code",
   "execution_count": 208,
   "metadata": {
    "colab": {},
    "colab_type": "code",
    "id": "DMxQa9rWneJV",
    "outputId": "2b068e4f-43b0-4d4c-9081-6bf9ecea8ae5"
   },
   "outputs": [],
   "source": [
    "df_master.head(3);"
   ]
  },
  {
   "cell_type": "markdown",
   "metadata": {
    "colab_type": "text",
    "id": "JPcvBKW2r1xt"
   },
   "source": [
    "Let's try to help the machine by creating columns which could be more predictive."
   ]
  },
  {
   "cell_type": "markdown",
   "metadata": {
    "colab": {},
    "colab_type": "code",
    "id": "OiFz_h2_r1xv"
   },
   "source": [
    "We analyze differences in box score statistics from the winning and losing team, just to explore for now (not for predictive power)."
   ]
  },
  {
   "cell_type": "code",
   "execution_count": 209,
   "metadata": {
    "colab": {},
    "colab_type": "code",
    "id": "vipL2OJfr1x1"
   },
   "outputs": [],
   "source": [
    "df_master['DiffAst']=df_master['WAst']-df_master['LAst']\n",
    "df_master['DiffReb']=df_master['WOR']+df_master['WDR']-df_master['LOR']-df_master['LDR']\n",
    "df_master['DiffStl']=df_master['WStl']-df_master['LStl']\n",
    "df_master['DiffBlk']=df_master['WBlk']-df_master['LBlk']"
   ]
  },
  {
   "cell_type": "code",
   "execution_count": 210,
   "metadata": {
    "colab": {},
    "colab_type": "code",
    "id": "3u_OTzVjr1x3"
   },
   "outputs": [],
   "source": [
    "df_analysis=df_master[['DiffAst','DiffReb','DiffStl','DiffBlk']]"
   ]
  },
  {
   "cell_type": "code",
   "execution_count": 211,
   "metadata": {
    "colab": {
     "base_uri": "https://localhost:8080/",
     "height": 142
    },
    "colab_type": "code",
    "id": "xKeNjyaSr1x5",
    "outputId": "0f2392dd-06d2-4493-9d71-c70be65c6bd5"
   },
   "outputs": [],
   "source": [
    "df_analysis.head(3);"
   ]
  },
  {
   "cell_type": "code",
   "execution_count": 212,
   "metadata": {
    "colab": {
     "base_uri": "https://localhost:8080/",
     "height": 297
    },
    "colab_type": "code",
    "id": "YyKNOM2Rr1x8",
    "outputId": "b92c9349-f50d-4d4b-cc41-f620c8baeb79"
   },
   "outputs": [
    {
     "data": {
      "text/html": [
       "<div>\n",
       "<style scoped>\n",
       "    .dataframe tbody tr th:only-of-type {\n",
       "        vertical-align: middle;\n",
       "    }\n",
       "\n",
       "    .dataframe tbody tr th {\n",
       "        vertical-align: top;\n",
       "    }\n",
       "\n",
       "    .dataframe thead th {\n",
       "        text-align: right;\n",
       "    }\n",
       "</style>\n",
       "<table border=\"1\" class=\"dataframe\">\n",
       "  <thead>\n",
       "    <tr style=\"text-align: right;\">\n",
       "      <th></th>\n",
       "      <th>DiffAst</th>\n",
       "      <th>DiffReb</th>\n",
       "      <th>DiffStl</th>\n",
       "      <th>DiffBlk</th>\n",
       "    </tr>\n",
       "  </thead>\n",
       "  <tbody>\n",
       "    <tr>\n",
       "      <th>count</th>\n",
       "      <td>87504.00%</td>\n",
       "      <td>87504.00%</td>\n",
       "      <td>87504.00%</td>\n",
       "      <td>87504.00%</td>\n",
       "    </tr>\n",
       "    <tr>\n",
       "      <th>mean</th>\n",
       "      <td>3.30%</td>\n",
       "      <td>3.83%</td>\n",
       "      <td>1.00%</td>\n",
       "      <td>0.96%</td>\n",
       "    </tr>\n",
       "    <tr>\n",
       "      <th>std</th>\n",
       "      <td>5.19%</td>\n",
       "      <td>8.47%</td>\n",
       "      <td>3.92%</td>\n",
       "      <td>3.15%</td>\n",
       "    </tr>\n",
       "    <tr>\n",
       "      <th>min</th>\n",
       "      <td>-19.00%</td>\n",
       "      <td>-31.00%</td>\n",
       "      <td>-18.00%</td>\n",
       "      <td>-16.00%</td>\n",
       "    </tr>\n",
       "    <tr>\n",
       "      <th>25%</th>\n",
       "      <td>0.00%</td>\n",
       "      <td>-2.00%</td>\n",
       "      <td>-2.00%</td>\n",
       "      <td>-1.00%</td>\n",
       "    </tr>\n",
       "    <tr>\n",
       "      <th>50%</th>\n",
       "      <td>3.00%</td>\n",
       "      <td>4.00%</td>\n",
       "      <td>1.00%</td>\n",
       "      <td>1.00%</td>\n",
       "    </tr>\n",
       "    <tr>\n",
       "      <th>75%</th>\n",
       "      <td>7.00%</td>\n",
       "      <td>9.00%</td>\n",
       "      <td>4.00%</td>\n",
       "      <td>3.00%</td>\n",
       "    </tr>\n",
       "    <tr>\n",
       "      <th>max</th>\n",
       "      <td>31.00%</td>\n",
       "      <td>48.00%</td>\n",
       "      <td>23.00%</td>\n",
       "      <td>19.00%</td>\n",
       "    </tr>\n",
       "  </tbody>\n",
       "</table>\n",
       "</div>"
      ],
      "text/plain": [
       "        DiffAst   DiffReb   DiffStl   DiffBlk\n",
       "count 87504.00% 87504.00% 87504.00% 87504.00%\n",
       "mean      3.30%     3.83%     1.00%     0.96%\n",
       "std       5.19%     8.47%     3.92%     3.15%\n",
       "min     -19.00%   -31.00%   -18.00%   -16.00%\n",
       "25%       0.00%    -2.00%    -2.00%    -1.00%\n",
       "50%       3.00%     4.00%     1.00%     1.00%\n",
       "75%       7.00%     9.00%     4.00%     3.00%\n",
       "max      31.00%    48.00%    23.00%    19.00%"
      ]
     },
     "execution_count": 212,
     "metadata": {},
     "output_type": "execute_result"
    }
   ],
   "source": [
    "df_analysis.describe()"
   ]
  },
  {
   "cell_type": "markdown",
   "metadata": {
    "colab_type": "text",
    "id": "KJ-OIiwDr1x_"
   },
   "source": [
    "As expected, we encounter a positive difference for Ast, Reb, Stl, Blk for winning team minus losing team."
   ]
  },
  {
   "cell_type": "markdown",
   "metadata": {
    "colab_type": "text",
    "id": "DK2KloMFr1x_"
   },
   "source": [
    "We can use difference from regular season to predict who would in the tournament."
   ]
  },
  {
   "cell_type": "code",
   "execution_count": 213,
   "metadata": {
    "colab": {},
    "colab_type": "code",
    "id": "LsPhAQvwr1yA"
   },
   "outputs": [],
   "source": [
    "import numpy as np\n",
    "df_master['LowerID']=np.where(df_master['WTeamID']>df_master['LTeamID'],df_master['LTeamID'],df_master['WTeamID'])"
   ]
  },
  {
   "cell_type": "code",
   "execution_count": 214,
   "metadata": {
    "colab": {
     "base_uri": "https://localhost:8080/",
     "height": 162
    },
    "colab_type": "code",
    "id": "wiyrSEPIr1yC",
    "outputId": "d81cdfb4-634b-4a83-f994-5d5c29b10832"
   },
   "outputs": [],
   "source": [
    "df_master.head(3);"
   ]
  },
  {
   "cell_type": "code",
   "execution_count": 215,
   "metadata": {
    "colab": {},
    "colab_type": "code",
    "id": "7NwJ8YV4r1yE"
   },
   "outputs": [],
   "source": [
    "df_master['LowerAst']=np.where(df_master['LowerID']==df_master['WTeamID'],df_master['DiffAst'],-df_master['DiffAst'])\n",
    "df_master['LowerReb']=np.where(df_master['LowerID']==df_master['WTeamID'],df_master['DiffReb'],-df_master['DiffReb'])\n",
    "df_master['LowerStl']=np.where(df_master['LowerID']==df_master['WTeamID'],df_master['DiffStl'],-df_master['DiffStl'])\n",
    "df_master['LowerBlk']=np.where(df_master['LowerID']==df_master['WTeamID'],df_master['DiffBlk'],-df_master['DiffBlk'])"
   ]
  },
  {
   "cell_type": "code",
   "execution_count": 216,
   "metadata": {
    "colab": {},
    "colab_type": "code",
    "id": "4Snz0c5Cr1yG"
   },
   "outputs": [],
   "source": [
    "df_master['WinIndicator']=np.where(df_master['LowerID']==df_master['WTeamID'],1,0)"
   ]
  },
  {
   "cell_type": "code",
   "execution_count": 217,
   "metadata": {
    "colab": {},
    "colab_type": "code",
    "id": "kQS0H6lQr1yI"
   },
   "outputs": [],
   "source": [
    "df_prediction=df_master[['LowerAst','LowerReb','LowerStl','LowerBlk','WinIndicator']]"
   ]
  },
  {
   "cell_type": "code",
   "execution_count": 218,
   "metadata": {
    "colab": {},
    "colab_type": "code",
    "id": "Up-eQSRJr1yL"
   },
   "outputs": [],
   "source": [
    "x=df_prediction[['LowerAst','LowerReb','LowerStl','LowerBlk']]"
   ]
  },
  {
   "cell_type": "code",
   "execution_count": 219,
   "metadata": {
    "colab": {},
    "colab_type": "code",
    "id": "iWx5mJ4Yr1yO"
   },
   "outputs": [],
   "source": [
    "y=df_prediction['WinIndicator']"
   ]
  },
  {
   "cell_type": "code",
   "execution_count": 220,
   "metadata": {
    "colab": {
     "base_uri": "https://localhost:8080/",
     "height": 142
    },
    "colab_type": "code",
    "id": "0ke92Prjr1yQ",
    "outputId": "d42a65b7-27f5-4232-a3f8-4c49d9a8058a"
   },
   "outputs": [],
   "source": [
    "x.head(3);"
   ]
  },
  {
   "cell_type": "code",
   "execution_count": 221,
   "metadata": {
    "colab": {
     "base_uri": "https://localhost:8080/",
     "height": 85
    },
    "colab_type": "code",
    "id": "WptPJGDvr1yU",
    "outputId": "61da08bd-3bb1-4b08-fe81-acb00c2bd784"
   },
   "outputs": [],
   "source": [
    "y.head(3);"
   ]
  },
  {
   "cell_type": "code",
   "execution_count": 223,
   "metadata": {
    "colab": {
     "base_uri": "https://localhost:8080/",
     "height": 193
    },
    "colab_type": "code",
    "id": "BuxI2gNqr1y_",
    "outputId": "f37bdf57-d75d-4503-f2a6-1f9934a894bf"
   },
   "outputs": [],
   "source": [
    "df_master.loc[df_master['Season']==2018].groupby('LowerID').mean().head(3);"
   ]
  },
  {
   "cell_type": "code",
   "execution_count": 224,
   "metadata": {
    "colab": {},
    "colab_type": "code",
    "id": "CjoK5trbr1zE"
   },
   "outputs": [],
   "source": [
    "df_master['LowerFGM']=np.where(df_master['LowerID']==df_master['WTeamID'],df_master['WFGM'],df_master['LFGM'])\n",
    "df_master['LowerFGA']=np.where(df_master['LowerID']==df_master['WTeamID'],df_master['WFGA'],df_master['LFGA'])\n",
    "df_master['LowerFGPercentage']=df_master['LowerFGM']/df_master['LowerFGA']\n",
    "\n",
    "df_master['LowerFGM3']=np.where(df_master['LowerID']==df_master['WTeamID'],df_master['WFGM3'],df_master['LFGM3'])\n",
    "df_master['LowerFGA3']=np.where(df_master['LowerID']==df_master['WTeamID'],df_master['WFGA3'],df_master['LFGA3'])\n",
    "df_master['LowerFGPercentage3']=df_master['LowerFGM']/df_master['LowerFGA']\n",
    "\n",
    "df_master['LowerFTM']=np.where(df_master['LowerID']==df_master['WTeamID'],df_master['WFTM'],df_master['LFTM'])\n",
    "df_master['LowerFTA']=np.where(df_master['LowerID']==df_master['WTeamID'],df_master['WFTA'],df_master['LFTA'])\n",
    "df_master['LowerFTPercentage']=df_master['LowerFTM']/df_master['LowerFTA']\n",
    "\n",
    "df_master['LowerOR']=np.where(df_master['LowerID']==df_master['WTeamID'],df_master['WOR'],df_master['LOR'])\n",
    "\n",
    "df_master['LowerDR']=np.where(df_master['LowerID']==df_master['WTeamID'],df_master['WDR'],df_master['LDR'])\n",
    "\n",
    "df_master['LowerAst']=np.where(df_master['LowerID']==df_master['WTeamID'],df_master['WAst'],df_master['LAst'])\n",
    "\n",
    "df_master['LowerTO']=np.where(df_master['LowerID']==df_master['WTeamID'],df_master['WTO'],df_master['LTO'])\n",
    "\n",
    "df_master['LowerStl']=np.where(df_master['LowerID']==df_master['WTeamID'],df_master['WStl'],df_master['LStl'])\n",
    "\n",
    "df_master['LowerBlk']=np.where(df_master['LowerID']==df_master['WTeamID'],df_master['WBlk'],df_master['LBlk'])"
   ]
  },
  {
   "cell_type": "code",
   "execution_count": 225,
   "metadata": {
    "colab": {
     "base_uri": "https://localhost:8080/",
     "height": 187
    },
    "colab_type": "code",
    "id": "DSVUa0Gor1zH",
    "outputId": "d6d055f1-e7f8-43e0-b0a6-fdfe1ccd62f3"
   },
   "outputs": [
    {
     "name": "stdout",
     "output_type": "stream",
     "text": [
      "Names of Columns Set Up For Machine Learning  ['Season', 'DayNum', 'WTeamID', 'WScore', 'LTeamID', 'LScore', 'WLoc', 'NumOT', 'WFGM', 'WFGA', 'WFGM3', 'WFGA3', 'WFTM', 'WFTA', 'WOR', 'WDR', 'WAst', 'WTO', 'WStl', 'WBlk', 'WPF', 'LFGM', 'LFGA', 'LFGM3', 'LFGA3', 'LFTM', 'LFTA', 'LOR', 'LDR', 'LAst', 'LTO', 'LStl', 'LBlk', 'LPF', 'DiffAst', 'DiffReb', 'DiffStl', 'DiffBlk', 'LowerID', 'LowerAst', 'LowerReb', 'LowerStl', 'LowerBlk', 'WinIndicator', 'LowerFGM', 'LowerFGA', 'LowerFGPercentage', 'LowerFGM3', 'LowerFGA3', 'LowerFGPercentage3', 'LowerFTM', 'LowerFTA', 'LowerFTPercentage', 'LowerOR', 'LowerDR', 'LowerTO']\n"
     ]
    }
   ],
   "source": [
    "print('Names of Columns Set Up For Machine Learning ' , list(df_master.columns))"
   ]
  },
  {
   "cell_type": "code",
   "execution_count": 226,
   "metadata": {
    "colab": {},
    "colab_type": "code",
    "id": "DKl_-fD40XUY"
   },
   "outputs": [],
   "source": [
    "df_stats=df_master.groupby(['LowerID','Season']).mean()[['LowerAst','LowerReb','LowerStl','LowerBlk',\n",
    "                                                                   'LowerFGPercentage','LowerFGPercentage3',\n",
    "                                                                   'LowerFTPercentage','LowerOR','LowerDR',\n",
    "                                                                   'LowerTO']]"
   ]
  },
  {
   "cell_type": "code",
   "execution_count": 227,
   "metadata": {
    "colab": {
     "base_uri": "https://localhost:8080/",
     "height": 173
    },
    "colab_type": "code",
    "id": "kM45i8-yr1zL",
    "outputId": "a078619a-158b-4ab5-ae36-ca825bced922"
   },
   "outputs": [],
   "source": [
    "df_stats.head(3);"
   ]
  },
  {
   "cell_type": "code",
   "execution_count": 231,
   "metadata": {
    "colab": {},
    "colab_type": "code",
    "id": "J4wSbNiJ0XUd",
    "outputId": "12911fe7-df10-4e2b-aee5-abc7cfd8b30a"
   },
   "outputs": [],
   "source": [
    "len(df_stats);"
   ]
  },
  {
   "cell_type": "code",
   "execution_count": 232,
   "metadata": {
    "colab": {},
    "colab_type": "code",
    "id": "Emx5P0bcr1zO"
   },
   "outputs": [],
   "source": [
    "df_stats.to_excel('AllYearsStats.xlsx')"
   ]
  },
  {
   "cell_type": "code",
   "execution_count": 233,
   "metadata": {
    "colab": {},
    "colab_type": "code",
    "id": "Xgv6JKRM0XUj"
   },
   "outputs": [],
   "source": [
    "df_pred_time=df_tournament[['Season','WTeamID','LTeamID']]"
   ]
  },
  {
   "cell_type": "code",
   "execution_count": 234,
   "metadata": {
    "colab": {
     "base_uri": "https://localhost:8080/",
     "height": 142
    },
    "colab_type": "code",
    "id": "OokOjo4Sr1zU",
    "outputId": "efc3dcf6-8eb1-4847-d6ee-1ac9e8563049"
   },
   "outputs": [],
   "source": [
    "df_pred_time.head(3);"
   ]
  },
  {
   "cell_type": "code",
   "execution_count": 235,
   "metadata": {
    "colab": {},
    "colab_type": "code",
    "id": "sFBqbjcQr1zX",
    "outputId": "727f4360-6d9f-4fa3-bb16-c90139ac8268"
   },
   "outputs": [],
   "source": [
    "df_pred_time['Lower']=np.where(df_pred_time['WTeamID']>df_pred_time['LTeamID'],df_pred_time['LTeamID'],df_pred_time['WTeamID'])"
   ]
  },
  {
   "cell_type": "code",
   "execution_count": 236,
   "metadata": {
    "colab": {},
    "colab_type": "code",
    "id": "qu26P7vpr1za",
    "outputId": "c72c7cdd-316b-4672-894b-c51d5ba60da5"
   },
   "outputs": [],
   "source": [
    "df_pred_time['LowerWin']=np.where(df_pred_time['WTeamID']==df_pred_time['Lower'],1,0)"
   ]
  },
  {
   "cell_type": "code",
   "execution_count": 237,
   "metadata": {
    "colab": {},
    "colab_type": "code",
    "id": "hON6YyMvr1zc"
   },
   "outputs": [],
   "source": [
    "df_pred_time.to_excel('IDs.xlsx')"
   ]
  },
  {
   "cell_type": "code",
   "execution_count": 238,
   "metadata": {
    "colab": {
     "base_uri": "https://localhost:8080/",
     "height": 326
    },
    "colab_type": "code",
    "id": "6J3DiKhIr1zi",
    "outputId": "4e37bc1c-1d35-48d3-cf2f-de2d009780d3"
   },
   "outputs": [],
   "source": [
    "df=pd.read_excel('IDs_Modified.xlsx',sheetname='Pull')"
   ]
  },
  {
   "cell_type": "code",
   "execution_count": 239,
   "metadata": {
    "colab": {},
    "colab_type": "code",
    "id": "kLxocpRxr1zj",
    "outputId": "2a29132c-5ce2-4cb7-c633-c31675630ad9",
    "scrolled": false
   },
   "outputs": [],
   "source": [
    "df.head(3); #all columns are differences between Lower Team and Higher Team by ID"
   ]
  },
  {
   "cell_type": "code",
   "execution_count": 240,
   "metadata": {
    "colab": {},
    "colab_type": "code",
    "id": "xBm9ofOX0XVd"
   },
   "outputs": [],
   "source": [
    "df.dropna(inplace=True)"
   ]
  },
  {
   "cell_type": "code",
   "execution_count": 241,
   "metadata": {
    "colab": {},
    "colab_type": "code",
    "id": "V3KBRL1t0XVi",
    "outputId": "2dbb2176-7f15-4dda-a581-6cc88abad4f9"
   },
   "outputs": [],
   "source": [
    "len(df); #Drop 13% of data, still have a lot so it's ok"
   ]
  },
  {
   "cell_type": "markdown",
   "metadata": {
    "colab_type": "text",
    "id": "ohmyqTFhr1zm"
   },
   "source": [
    "Our question at hand is as follows, can we predict if the lower ID team will win in the NCAA Tourney based on our regular season stats?"
   ]
  },
  {
   "cell_type": "markdown",
   "metadata": {
    "colab_type": "text",
    "id": "odLhV6Oi0XVr"
   },
   "source": [
    "We will use different algorithms and test based on accuracy, because we expect a balanced dataset (since ID # is roughly arbitrary). We also care about accuracy because we have balanced data. The feature vector, x, includes the differences in box score statistics between the team with the lower ID and the team with the higher ID. Meanwhile, the target value is whether or the lower ID team beat the higher ID team when the two teams faced off in the NCAA tournament."
   ]
  },
  {
   "cell_type": "code",
   "execution_count": 242,
   "metadata": {
    "colab": {},
    "colab_type": "code",
    "id": "Ukdq5s0Xr1zn"
   },
   "outputs": [],
   "source": [
    "#Feature Vector\n",
    "x=df[['Dast','Dreb','DStl','DBlk','DFGPerc','DFGPerc3','DFTP','DTO']]"
   ]
  },
  {
   "cell_type": "code",
   "execution_count": 243,
   "metadata": {
    "colab": {},
    "colab_type": "code",
    "id": "OKk5z6Ker1zr"
   },
   "outputs": [],
   "source": [
    "#Target Variable\n",
    "y=df[['LowerWin']]"
   ]
  },
  {
   "cell_type": "code",
   "execution_count": 244,
   "metadata": {
    "colab": {},
    "colab_type": "code",
    "id": "947vtQysr1zv",
    "outputId": "4faad177-79de-474f-ceb6-4da97e3f43c7"
   },
   "outputs": [],
   "source": [
    "x.head(3);"
   ]
  },
  {
   "cell_type": "markdown",
   "metadata": {
    "colab": {},
    "colab_type": "code",
    "id": "IurLx7pzr1zz"
   },
   "source": [
    "Notice the \"D\" as the first character of every feature, because it's the difference between the lower team ID and the higher team ID."
   ]
  },
  {
   "cell_type": "markdown",
   "metadata": {
    "colab_type": "text",
    "id": "_JEAmagh0XV3"
   },
   "source": [
    "In order to not over-fit our model, we split the data into a training test and a testing set. We split the data into 80% used for training the model and 20% used for holdout data to test the model."
   ]
  },
  {
   "cell_type": "code",
   "execution_count": 245,
   "metadata": {
    "colab": {},
    "colab_type": "code",
    "id": "4ZVsfX8g0XV4"
   },
   "outputs": [],
   "source": [
    "from sklearn.model_selection import train_test_split"
   ]
  },
  {
   "cell_type": "code",
   "execution_count": 246,
   "metadata": {
    "colab": {},
    "colab_type": "code",
    "id": "Hflg5X9Ar1z1"
   },
   "outputs": [],
   "source": [
    "x_train,x_test,y_train,y_test=train_test_split(x,y,test_size=0.2,random_state=42) \n",
    "#Set random state set for reproducibility, by default already shuffled"
   ]
  },
  {
   "cell_type": "markdown",
   "metadata": {
    "colab_type": "text",
    "id": "kCQcKs_t0XV8"
   },
   "source": [
    "We run a Logistic Regression to classify our data."
   ]
  },
  {
   "cell_type": "code",
   "execution_count": 247,
   "metadata": {
    "colab": {
     "base_uri": "https://localhost:8080/",
     "height": 198
    },
    "colab_type": "code",
    "id": "Sk4LV4nV0XV8",
    "outputId": "b1ba7300-e1b0-442c-d438-aa1e32e210fa"
   },
   "outputs": [],
   "source": [
    "from sklearn.linear_model import LogisticRegression\n",
    "logmodel=LogisticRegression()\n",
    "logmodel.fit(x_train,y_train);"
   ]
  },
  {
   "cell_type": "markdown",
   "metadata": {
    "colab_type": "text",
    "id": "Inrd3fTv0XV_"
   },
   "source": [
    "We create predictions for the testing set."
   ]
  },
  {
   "cell_type": "code",
   "execution_count": 248,
   "metadata": {
    "colab": {},
    "colab_type": "code",
    "id": "Rx1oujXn0XV_"
   },
   "outputs": [],
   "source": [
    "predictions=logmodel.predict(x_test)"
   ]
  },
  {
   "cell_type": "markdown",
   "metadata": {
    "colab_type": "text",
    "id": "gxviJb-o0XWC"
   },
   "source": [
    "We run a classification report to observe precision, recall and accuracy for our predictions."
   ]
  },
  {
   "cell_type": "code",
   "execution_count": 249,
   "metadata": {
    "colab": {},
    "colab_type": "code",
    "id": "WQGoV5_30XWD"
   },
   "outputs": [],
   "source": [
    "from sklearn.metrics import classification_report"
   ]
  },
  {
   "cell_type": "code",
   "execution_count": 250,
   "metadata": {
    "colab": {},
    "colab_type": "code",
    "id": "KrCnLKmL0XWG",
    "outputId": "d05fa535-4fac-46aa-803f-a86a86dae4a9"
   },
   "outputs": [
    {
     "name": "stdout",
     "output_type": "stream",
     "text": [
      "              precision    recall  f1-score   support\n",
      "\n",
      "           0       0.62      0.67      0.65        98\n",
      "           1       0.64      0.58      0.61        96\n",
      "\n",
      "   micro avg       0.63      0.63      0.63       194\n",
      "   macro avg       0.63      0.63      0.63       194\n",
      "weighted avg       0.63      0.63      0.63       194\n",
      "\n"
     ]
    }
   ],
   "source": [
    "print(classification_report(y_test,predictions))"
   ]
  },
  {
   "cell_type": "markdown",
   "metadata": {
    "colab_type": "text",
    "id": "sfjYCqBR0XWM"
   },
   "source": [
    "We run a confusion matrix to observe the proportion of true positives, true negatives, false positives and false negatives."
   ]
  },
  {
   "cell_type": "code",
   "execution_count": 251,
   "metadata": {
    "colab": {},
    "colab_type": "code",
    "id": "EId8UVkW0XWM"
   },
   "outputs": [],
   "source": [
    "from sklearn.metrics import confusion_matrix"
   ]
  },
  {
   "cell_type": "code",
   "execution_count": 252,
   "metadata": {
    "colab": {},
    "colab_type": "code",
    "id": "OVRMmAa50XWP",
    "outputId": "fc3762de-9d99-4dd7-ddff-ea77bd5ac400"
   },
   "outputs": [
    {
     "name": "stdout",
     "output_type": "stream",
     "text": [
      "[[66 32]\n",
      " [40 56]]\n"
     ]
    }
   ],
   "source": [
    "print(confusion_matrix(y_test,predictions))"
   ]
  },
  {
   "cell_type": "markdown",
   "metadata": {
    "colab_type": "text",
    "id": "qS2VqLyQ0XWS"
   },
   "source": [
    "We display model accuracy for our Logistic Regression."
   ]
  },
  {
   "cell_type": "code",
   "execution_count": 253,
   "metadata": {
    "colab": {},
    "colab_type": "code",
    "id": "PdjdA__e0XWT"
   },
   "outputs": [],
   "source": [
    "from sklearn.metrics import accuracy_score"
   ]
  },
  {
   "cell_type": "code",
   "execution_count": 254,
   "metadata": {
    "colab": {},
    "colab_type": "code",
    "id": "jqt9L6pu0XWU"
   },
   "outputs": [],
   "source": [
    "logistic_accuracy_score=accuracy_score(y_test,predictions)"
   ]
  },
  {
   "cell_type": "code",
   "execution_count": 255,
   "metadata": {
    "colab": {},
    "colab_type": "code",
    "id": "yy_ZAwhQ0XWW",
    "outputId": "19ffb6ee-0685-469c-aa31-9d998590eefd"
   },
   "outputs": [
    {
     "name": "stdout",
     "output_type": "stream",
     "text": [
      "Logistic Accuracy:  62.89%\n"
     ]
    }
   ],
   "source": [
    "print('Logistic Accuracy: ',(format(logistic_accuracy_score,\".2%\")))"
   ]
  },
  {
   "cell_type": "markdown",
   "metadata": {
    "colab_type": "text",
    "id": "E86saNzD0XWY"
   },
   "source": [
    "We run a Decision Tree for classification. We'll come back later to optimize the parameters."
   ]
  },
  {
   "cell_type": "code",
   "execution_count": 256,
   "metadata": {
    "colab": {},
    "colab_type": "code",
    "id": "UBkJfLuE0XWY"
   },
   "outputs": [],
   "source": [
    "from sklearn.tree import DecisionTreeClassifier\n",
    "from sklearn.model_selection import train_test_split\n",
    "from sklearn.model_selection import cross_val_score"
   ]
  },
  {
   "cell_type": "code",
   "execution_count": 257,
   "metadata": {
    "colab": {},
    "colab_type": "code",
    "id": "j20gAbcj0XWZ"
   },
   "outputs": [],
   "source": [
    "x_train,x_test,y_train,y_test=train_test_split(x,y,test_size=0.2,random_state=42) \n",
    "#Random state set for reproducibility"
   ]
  },
  {
   "cell_type": "code",
   "execution_count": 258,
   "metadata": {
    "colab": {},
    "colab_type": "code",
    "id": "YouO7Q_N0XWd"
   },
   "outputs": [],
   "source": [
    "model=DecisionTreeClassifier(max_depth=10)"
   ]
  },
  {
   "cell_type": "code",
   "execution_count": 259,
   "metadata": {
    "colab": {},
    "colab_type": "code",
    "id": "F0M0V3Yj0XWe"
   },
   "outputs": [],
   "source": [
    "scores=cross_val_score(model,x_train,y_train,scoring=\"accuracy\",cv=10)"
   ]
  },
  {
   "cell_type": "code",
   "execution_count": 260,
   "metadata": {
    "colab": {},
    "colab_type": "code",
    "id": "WVZrZ5Zx0XWg",
    "outputId": "d3299b19-f4f5-455d-ef79-4982854e71cc"
   },
   "outputs": [
    {
     "name": "stdout",
     "output_type": "stream",
     "text": [
      "Cross Validated Accuracy: 0.582 +/- 0.041\n"
     ]
    }
   ],
   "source": [
    "print(\"Cross Validated Accuracy: %0.3f +/- %0.3f\" % (scores.mean(),scores.std()))"
   ]
  },
  {
   "cell_type": "code",
   "execution_count": 261,
   "metadata": {
    "colab": {},
    "colab_type": "code",
    "id": "43TCqf3f0XWi"
   },
   "outputs": [],
   "source": [
    "model=DecisionTreeClassifier(max_depth=10)\n",
    "model.fit(x_train,y_train)\n",
    "predictions=model.predict(x_test)"
   ]
  },
  {
   "cell_type": "markdown",
   "metadata": {
    "colab_type": "text",
    "id": "DnzNUONA0XWm"
   },
   "source": [
    "We display a confusion matrix, but this time using a heatmap visualization."
   ]
  },
  {
   "cell_type": "code",
   "execution_count": 262,
   "metadata": {
    "colab": {},
    "colab_type": "code",
    "id": "vSAMDEbL0XWm"
   },
   "outputs": [],
   "source": [
    "import seaborn as sns\n",
    "from sklearn.metrics import confusion_matrix"
   ]
  },
  {
   "cell_type": "code",
   "execution_count": 263,
   "metadata": {
    "colab": {},
    "colab_type": "code",
    "id": "dtUrKJrm0XWo",
    "outputId": "58af6b85-08c2-451d-d5b8-45b6321b36c4"
   },
   "outputs": [
    {
     "data": {
      "text/plain": [
       "Text(0.5, 1.0, 'Figure 4: Heatmap Confusion Matrix - Decision Tree Classification')"
      ]
     },
     "execution_count": 263,
     "metadata": {},
     "output_type": "execute_result"
    },
    {
     "data": {
      "image/png": "[encoded data removed]",
      "text/plain": [
       "<Figure size 432x288 with 2 Axes>"
      ]
     },
     "metadata": {
      "needs_background": "light"
     },
     "output_type": "display_data"
    }
   ],
   "source": [
    "predictions=model.predict(x_test)\n",
    "sns.heatmap(confusion_matrix(y_test,predictions),annot=True)\n",
    "plt.xlabel('Predicted Value')\n",
    "plt.ylabel('True Value')\n",
    "plt.title('Figure 4: Heatmap Confusion Matrix - Decision Tree Classification')"
   ]
  },
  {
   "cell_type": "markdown",
   "metadata": {
    "colab_type": "text",
    "id": "XBT5r25w0XWp"
   },
   "source": [
    "We display model accuracy for Decision Trees."
   ]
  },
  {
   "cell_type": "code",
   "execution_count": 264,
   "metadata": {
    "colab": {},
    "colab_type": "code",
    "id": "QMTI8pvf0XWp"
   },
   "outputs": [],
   "source": [
    "from sklearn.metrics import accuracy_score"
   ]
  },
  {
   "cell_type": "code",
   "execution_count": 265,
   "metadata": {
    "colab": {},
    "colab_type": "code",
    "id": "GxZ6Y0l70XWs"
   },
   "outputs": [],
   "source": [
    "DT_accuracy_score=accuracy_score(y_test,predictions)"
   ]
  },
  {
   "cell_type": "code",
   "execution_count": 266,
   "metadata": {
    "colab": {},
    "colab_type": "code",
    "id": "NWvWhs-S0XWu",
    "outputId": "b640c314-511d-40c8-9a04-21e75b10df4e"
   },
   "outputs": [
    {
     "name": "stdout",
     "output_type": "stream",
     "text": [
      "Decision Tree Accuracy:  63.40%\n"
     ]
    }
   ],
   "source": [
    "print('Decision Tree Accuracy: ',(format(DT_accuracy_score,\".2%\")))"
   ]
  },
  {
   "cell_type": "markdown",
   "metadata": {
    "colab_type": "text",
    "id": "rfP-y6i20XWw"
   },
   "source": [
    "We run a Random Forest for classification."
   ]
  },
  {
   "cell_type": "code",
   "execution_count": 267,
   "metadata": {
    "colab": {},
    "colab_type": "code",
    "id": "Lnc2yDEI0XWw"
   },
   "outputs": [],
   "source": [
    "from sklearn.ensemble import RandomForestClassifier"
   ]
  },
  {
   "cell_type": "code",
   "execution_count": 268,
   "metadata": {
    "colab": {},
    "colab_type": "code",
    "id": "UvF7IwyW0XWx"
   },
   "outputs": [],
   "source": [
    "model = RandomForestClassifier(n_estimators=200)"
   ]
  },
  {
   "cell_type": "code",
   "execution_count": 269,
   "metadata": {
    "colab": {},
    "colab_type": "code",
    "id": "bs4q4mWz0XWz",
    "outputId": "db6e10f7-c073-4974-a24e-74f150181479"
   },
   "outputs": [],
   "source": [
    "%%capture\n",
    "scores=cross_val_score(model,x_train,y_train,scoring=\"accuracy\",cv=10);"
   ]
  },
  {
   "cell_type": "code",
   "execution_count": 270,
   "metadata": {
    "colab": {},
    "colab_type": "code",
    "id": "i2xY6-j10XW1",
    "outputId": "687b9303-5524-4b00-f29c-28e3a47357e3"
   },
   "outputs": [
    {
     "name": "stdout",
     "output_type": "stream",
     "text": [
      "Cross Validated Accuracy: 0.593 +/- 0.052\n"
     ]
    }
   ],
   "source": [
    "print(\"Cross Validated Accuracy: %0.3f +/- %0.3f\" % (scores.mean(),scores.std()))"
   ]
  },
  {
   "cell_type": "code",
   "execution_count": 271,
   "metadata": {
    "colab": {},
    "colab_type": "code",
    "id": "48NqxJU40XW2",
    "outputId": "ca829290-293c-450a-e426-e3e7f1ef5973"
   },
   "outputs": [],
   "source": [
    "%%capture\n",
    "model.fit(x_train,y_train);"
   ]
  },
  {
   "cell_type": "code",
   "execution_count": 272,
   "metadata": {
    "colab": {},
    "colab_type": "code",
    "id": "PMnJd6a60XW3"
   },
   "outputs": [],
   "source": [
    "predictions=model.predict(x_test)"
   ]
  },
  {
   "cell_type": "markdown",
   "metadata": {
    "colab_type": "text",
    "id": "sfz61nwp0XXE"
   },
   "source": [
    "We display model accuracy for Random Forest."
   ]
  },
  {
   "cell_type": "code",
   "execution_count": 273,
   "metadata": {
    "colab": {},
    "colab_type": "code",
    "id": "fdZIC0wh0XXE"
   },
   "outputs": [],
   "source": [
    "from sklearn.metrics import accuracy_score"
   ]
  },
  {
   "cell_type": "code",
   "execution_count": 274,
   "metadata": {
    "colab": {},
    "colab_type": "code",
    "id": "wd6uoEMm0XXa"
   },
   "outputs": [],
   "source": [
    "RF_accuracy_score=accuracy_score(y_test,predictions)"
   ]
  },
  {
   "cell_type": "code",
   "execution_count": 275,
   "metadata": {
    "colab": {},
    "colab_type": "code",
    "id": "MxJY4vhK0XXf",
    "outputId": "d56d359a-b84b-46f7-d529-667da67f8cf3"
   },
   "outputs": [
    {
     "name": "stdout",
     "output_type": "stream",
     "text": [
      "Random Forest Accuracy:  60.82%\n"
     ]
    }
   ],
   "source": [
    "print('Random Forest Accuracy: ',(format(RF_accuracy_score,\".2%\")))"
   ]
  },
  {
   "cell_type": "markdown",
   "metadata": {
    "colab_type": "text",
    "id": "xfUkNmF80XXj"
   },
   "source": [
    "We run a Grid Search to optimize hyper-parameters for our Random Forest (only a select, optimized set is shown below so as not to display a large amount of output)."
   ]
  },
  {
   "cell_type": "code",
   "execution_count": 276,
   "metadata": {
    "colab": {},
    "colab_type": "code",
    "id": "L5ofxbRm0XXk"
   },
   "outputs": [],
   "source": [
    "from sklearn.model_selection import GridSearchCV"
   ]
  },
  {
   "cell_type": "code",
   "execution_count": 277,
   "metadata": {
    "colab": {},
    "colab_type": "code",
    "id": "H-vLv0us0XXm"
   },
   "outputs": [],
   "source": [
    "n_estimators=[int(x) for x in np.linspace(start=2000,stop=2000,num=1)]\n",
    "max_depth=[int(x) for x in np.linspace(100,100,num=1)]\n",
    "min_samples_leaf=[5]"
   ]
  },
  {
   "cell_type": "code",
   "execution_count": 278,
   "metadata": {
    "colab": {},
    "colab_type": "code",
    "id": "RQRIclJp0XXo",
    "outputId": "f4a4d00f-ed4c-4b9f-b876-69e414c52945"
   },
   "outputs": [
    {
     "name": "stdout",
     "output_type": "stream",
     "text": [
      "{'n_estimators': [2000], 'max_depth': [100], 'min_samples_leaf': [5]}\n"
     ]
    }
   ],
   "source": [
    "param_grid={'n_estimators':n_estimators,\n",
    "           'max_depth':max_depth,\n",
    "           'min_samples_leaf':min_samples_leaf}\n",
    "print(param_grid)"
   ]
  },
  {
   "cell_type": "code",
   "execution_count": 279,
   "metadata": {
    "colab": {},
    "colab_type": "code",
    "id": "Ta9jy9ul0XXw"
   },
   "outputs": [],
   "source": [
    "grid=GridSearchCV(RandomForestClassifier(),param_grid,verbose=5)"
   ]
  },
  {
   "cell_type": "code",
   "execution_count": 280,
   "metadata": {
    "colab": {},
    "colab_type": "code",
    "id": "qCcTkBjf0XXx",
    "outputId": "a23afe58-9e44-40da-bf76-594cca9a2624"
   },
   "outputs": [],
   "source": [
    "%%capture\n",
    "grid.fit(x_train,y_train);"
   ]
  },
  {
   "cell_type": "code",
   "execution_count": 281,
   "metadata": {
    "colab": {},
    "colab_type": "code",
    "id": "rXroPcK60XX8",
    "outputId": "10e7f8a8-abba-4e4b-b822-5203828a2dfc"
   },
   "outputs": [],
   "source": [
    "grid.best_params_;"
   ]
  },
  {
   "cell_type": "code",
   "execution_count": 282,
   "metadata": {
    "colab": {},
    "colab_type": "code",
    "id": "MVVkUCTJ0XX-",
    "outputId": "0dba0173-2ee8-4a32-fb62-c7947dee0fdf"
   },
   "outputs": [],
   "source": [
    "grid.best_estimator_;"
   ]
  },
  {
   "cell_type": "code",
   "execution_count": 283,
   "metadata": {
    "colab": {},
    "colab_type": "code",
    "id": "9KJSBmtk0XYA"
   },
   "outputs": [],
   "source": [
    "grid_predictions=grid.predict(x_test)"
   ]
  },
  {
   "cell_type": "markdown",
   "metadata": {
    "colab_type": "text",
    "id": "Y3btQJlO0XYJ"
   },
   "source": [
    "We display model accuracy for our optimized Random Forest."
   ]
  },
  {
   "cell_type": "code",
   "execution_count": 284,
   "metadata": {
    "colab": {},
    "colab_type": "code",
    "id": "4fGLz_xP0XYK"
   },
   "outputs": [],
   "source": [
    "from sklearn.metrics import accuracy_score"
   ]
  },
  {
   "cell_type": "code",
   "execution_count": 285,
   "metadata": {
    "colab": {},
    "colab_type": "code",
    "id": "RtE-I2a_0XYO"
   },
   "outputs": [],
   "source": [
    "RF_accuracy_score=accuracy_score(y_test,grid_predictions)"
   ]
  },
  {
   "cell_type": "code",
   "execution_count": 286,
   "metadata": {
    "colab": {},
    "colab_type": "code",
    "id": "zC6YrKcl0XYQ",
    "outputId": "89771f9a-737e-4a7a-a71c-9caf4f79d867"
   },
   "outputs": [
    {
     "name": "stdout",
     "output_type": "stream",
     "text": [
      "Random Forest Accuracy (After Optimizing):  62.89%\n"
     ]
    }
   ],
   "source": [
    "print('Random Forest Accuracy (After Optimizing): ',(format(RF_accuracy_score,\".2%\")))"
   ]
  },
  {
   "cell_type": "markdown",
   "metadata": {
    "colab_type": "text",
    "id": "YLtwFsiK0XYS"
   },
   "source": [
    "We run a Support Vector Machine for classification."
   ]
  },
  {
   "cell_type": "code",
   "execution_count": 287,
   "metadata": {
    "colab": {},
    "colab_type": "code",
    "id": "7NjBGU1n0XYT"
   },
   "outputs": [],
   "source": [
    "from sklearn.svm import SVC"
   ]
  },
  {
   "cell_type": "code",
   "execution_count": 288,
   "metadata": {
    "colab": {},
    "colab_type": "code",
    "id": "Xu2VWcbt0XYV"
   },
   "outputs": [],
   "source": [
    "model=SVC()"
   ]
  },
  {
   "cell_type": "code",
   "execution_count": 289,
   "metadata": {
    "colab": {},
    "colab_type": "code",
    "id": "dHkLM1Xd0XYW"
   },
   "outputs": [],
   "source": [
    "x_train,x_test,y_train,y_test=train_test_split(x,y,test_size=0.2,random_state=42) \n",
    "#Random state set for reproducibility"
   ]
  },
  {
   "cell_type": "code",
   "execution_count": 290,
   "metadata": {
    "colab": {},
    "colab_type": "code",
    "id": "xXz2e4Mw0XYX",
    "outputId": "389cbf2f-53cc-47d5-d805-b27172274761"
   },
   "outputs": [],
   "source": [
    "model.fit(x_train,y_train);"
   ]
  },
  {
   "cell_type": "code",
   "execution_count": 291,
   "metadata": {
    "colab": {},
    "colab_type": "code",
    "id": "998pwQdd0XYb"
   },
   "outputs": [],
   "source": [
    "predictions=model.predict(x_test)"
   ]
  },
  {
   "cell_type": "markdown",
   "metadata": {
    "colab_type": "text",
    "id": "PNw_X2ZI0XYe"
   },
   "source": [
    "We run a Grid Search to optimize hyper-parameters for an SVM, similar to how we optimized for our Random Forest."
   ]
  },
  {
   "cell_type": "code",
   "execution_count": 292,
   "metadata": {
    "colab": {},
    "colab_type": "code",
    "id": "mZJqiczN0XYe"
   },
   "outputs": [],
   "source": [
    "from sklearn.model_selection import GridSearchCV"
   ]
  },
  {
   "cell_type": "code",
   "execution_count": 293,
   "metadata": {
    "colab": {},
    "colab_type": "code",
    "id": "zsyIaBHA0XYf"
   },
   "outputs": [],
   "source": [
    "param_grid={'C':[10],'gamma':[.0001]}"
   ]
  },
  {
   "cell_type": "code",
   "execution_count": 294,
   "metadata": {
    "colab": {},
    "colab_type": "code",
    "id": "lMXEdZaY0XYg"
   },
   "outputs": [],
   "source": [
    "grid=GridSearchCV(SVC(),param_grid,verbose=3)"
   ]
  },
  {
   "cell_type": "code",
   "execution_count": 295,
   "metadata": {
    "colab": {},
    "colab_type": "code",
    "id": "Su7amQ4h0XYh",
    "outputId": "2971636b-4f94-4d85-dc2e-13429c424819"
   },
   "outputs": [],
   "source": [
    "%%capture\n",
    "grid.fit(x_train,y_train);"
   ]
  },
  {
   "cell_type": "code",
   "execution_count": 296,
   "metadata": {
    "colab": {},
    "colab_type": "code",
    "id": "3K4NHKRY0XYi",
    "outputId": "ce4eab2c-92e6-4ad8-c5e7-2234429df316"
   },
   "outputs": [],
   "source": [
    "grid.best_params_;"
   ]
  },
  {
   "cell_type": "code",
   "execution_count": 297,
   "metadata": {
    "colab": {},
    "colab_type": "code",
    "id": "DLLIe58S0XYj",
    "outputId": "b5013333-1ff2-4ddd-8f1e-cb4921850761"
   },
   "outputs": [],
   "source": [
    "grid.best_estimator_;"
   ]
  },
  {
   "cell_type": "code",
   "execution_count": 298,
   "metadata": {
    "colab": {},
    "colab_type": "code",
    "id": "iHZ0jOru0XYq"
   },
   "outputs": [],
   "source": [
    "grid_predictions=grid.predict(x_test)"
   ]
  },
  {
   "cell_type": "markdown",
   "metadata": {
    "colab_type": "text",
    "id": "GAA5S8YO0XYt"
   },
   "source": [
    "We display model accuracy for the optimized SVM."
   ]
  },
  {
   "cell_type": "code",
   "execution_count": 299,
   "metadata": {
    "colab": {},
    "colab_type": "code",
    "id": "HPHum-B50XYt"
   },
   "outputs": [],
   "source": [
    "from sklearn.metrics import accuracy_score"
   ]
  },
  {
   "cell_type": "code",
   "execution_count": 300,
   "metadata": {
    "colab": {},
    "colab_type": "code",
    "id": "3ZAJozdY0XYu"
   },
   "outputs": [],
   "source": [
    "SVM_accuracy_score=accuracy_score(y_test,grid_predictions)"
   ]
  },
  {
   "cell_type": "code",
   "execution_count": 301,
   "metadata": {
    "colab": {},
    "colab_type": "code",
    "id": "pLS9tDGE0XYv",
    "outputId": "d02e8941-5daa-4f0a-d825-ebb464b14606"
   },
   "outputs": [
    {
     "name": "stdout",
     "output_type": "stream",
     "text": [
      "SVM Accuracy (Optimized):  61.86%\n"
     ]
    }
   ],
   "source": [
    "print('SVM Accuracy (Optimized): ',(format(SVM_accuracy_score,\".2%\")))"
   ]
  },
  {
   "cell_type": "markdown",
   "metadata": {
    "colab_type": "text",
    "id": "ztrTyVaq0XYw"
   },
   "source": [
    "Now that we've run several machine leraning algorithms to classify whether or not a team will win the NCAA Tournament based on the regular season box score statistics of the two teams, we can compare the accuracy results."
   ]
  },
  {
   "cell_type": "code",
   "execution_count": 302,
   "metadata": {
    "colab": {},
    "colab_type": "code",
    "id": "DgndvM7f0XYx"
   },
   "outputs": [],
   "source": [
    "df=pd.DataFrame({\"Machine Learning Algorithm\":\n",
    "                 ['Logistic Regression',\n",
    "                 'Decision Trees','Random Forest',\n",
    "                 'Support Vector Machine'],\n",
    "                 \"Accuracy\":[logistic_accuracy_score,DT_accuracy_score,\n",
    "                            RF_accuracy_score,SVM_accuracy_score]})"
   ]
  },
  {
   "cell_type": "code",
   "execution_count": 303,
   "metadata": {
    "colab": {},
    "colab_type": "code",
    "id": "c9_8KQmB0XYz"
   },
   "outputs": [],
   "source": [
    "df.set_index('Machine Learning Algorithm',inplace=True)\n",
    "pd.options.display.float_format = '{:.2f}%'.format"
   ]
  },
  {
   "cell_type": "code",
   "execution_count": 304,
   "metadata": {
    "colab": {},
    "colab_type": "code",
    "id": "C48famL50XY2"
   },
   "outputs": [],
   "source": [
    "df['Accuracy']=round(df['Accuracy'],3)"
   ]
  },
  {
   "cell_type": "code",
   "execution_count": 305,
   "metadata": {
    "colab": {},
    "colab_type": "code",
    "id": "RRSveV2VnePh",
    "outputId": "090af9c4-946d-4a56-98e4-3cd2e65a883e"
   },
   "outputs": [
    {
     "data": {
      "text/html": [
       "<div>\n",
       "<style scoped>\n",
       "    .dataframe tbody tr th:only-of-type {\n",
       "        vertical-align: middle;\n",
       "    }\n",
       "\n",
       "    .dataframe tbody tr th {\n",
       "        vertical-align: top;\n",
       "    }\n",
       "\n",
       "    .dataframe thead th {\n",
       "        text-align: right;\n",
       "    }\n",
       "</style>\n",
       "<table border=\"1\" class=\"dataframe\">\n",
       "  <thead>\n",
       "    <tr style=\"text-align: right;\">\n",
       "      <th></th>\n",
       "      <th>Accuracy</th>\n",
       "    </tr>\n",
       "    <tr>\n",
       "      <th>Machine Learning Algorithm</th>\n",
       "      <th></th>\n",
       "    </tr>\n",
       "  </thead>\n",
       "  <tbody>\n",
       "    <tr>\n",
       "      <th>Logistic Regression</th>\n",
       "      <td>0.63%</td>\n",
       "    </tr>\n",
       "    <tr>\n",
       "      <th>Decision Trees</th>\n",
       "      <td>0.63%</td>\n",
       "    </tr>\n",
       "    <tr>\n",
       "      <th>Random Forest</th>\n",
       "      <td>0.63%</td>\n",
       "    </tr>\n",
       "    <tr>\n",
       "      <th>Support Vector Machine</th>\n",
       "      <td>0.62%</td>\n",
       "    </tr>\n",
       "  </tbody>\n",
       "</table>\n",
       "</div>"
      ],
      "text/plain": [
       "                            Accuracy\n",
       "Machine Learning Algorithm          \n",
       "Logistic Regression            0.63%\n",
       "Decision Trees                 0.63%\n",
       "Random Forest                  0.63%\n",
       "Support Vector Machine         0.62%"
      ]
     },
     "execution_count": 305,
     "metadata": {},
     "output_type": "execute_result"
    }
   ],
   "source": [
    "df"
   ]
  },
  {
   "cell_type": "markdown",
   "metadata": {
    "colab_type": "text",
    "id": "WvF6Tb6A0XY3"
   },
   "source": [
    "## Section 4: Machine Learning and Prediction (With Rating)"
   ]
  },
  {
   "cell_type": "markdown",
   "metadata": {
    "colab_type": "text",
    "id": "EPj8iAJQnePk"
   },
   "source": [
    "We now take our machine learning a step further, by pulling in team ratings going into the tournament as another feature. We repeat the same type of analysis as above but with team ratings going into the NCAA game. "
   ]
  },
  {
   "cell_type": "code",
   "execution_count": 306,
   "metadata": {
    "colab": {},
    "colab_type": "code",
    "id": "n0IG941PjHY6"
   },
   "outputs": [],
   "source": [
    "df=pd.read_excel('IDs_Modified_w_Rankings.xlsx',sheet_name='Pull')"
   ]
  },
  {
   "cell_type": "code",
   "execution_count": 307,
   "metadata": {
    "colab": {},
    "colab_type": "code",
    "id": "9IE7hk0dkByh"
   },
   "outputs": [],
   "source": [
    "df.dropna(inplace=True)"
   ]
  },
  {
   "cell_type": "code",
   "execution_count": 308,
   "metadata": {
    "colab": {},
    "colab_type": "code",
    "id": "2tDoq5b1oR7D"
   },
   "outputs": [],
   "source": [
    "df_2019 = df.loc[df['Year'] == 2019]\n",
    "df_prior = df.loc[df['Year'] != 2019 ]"
   ]
  },
  {
   "cell_type": "code",
   "execution_count": 309,
   "metadata": {
    "colab": {},
    "colab_type": "code",
    "id": "P6BJVAlykIIK"
   },
   "outputs": [],
   "source": [
    "x_2019 = df_2019[['Dast','Dreb','DStl','DBlk','DFGPerc','DFGPerc3','DFTP','DTO',\"ARG\",\t\"BIH\",\t\"COL\",\t\"DOL\",\t\"DUN\",\t\"JNG\",\t\"MAS\",\t\"MOR\",\t\"POM\",\t\"RPI\",\t\"RTH\",\t\"SAG\",\t\"SEL\",\t\"WLK\",\t\"WOB\",\t\"WOL\"]]\n",
    "x_prior=df_prior[['Dast','Dreb','DStl','DBlk','DFGPerc','DFGPerc3','DFTP','DTO',\"ARG\",\t\"BIH\",\t\"COL\",\t\"DOL\",\t\"DUN\",\t\"JNG\",\t\"MAS\",\t\"MOR\",\t\"POM\",\t\"RPI\",\t\"RTH\",\t\"SAG\",\t\"SEL\",\t\"WLK\",\t\"WOB\",\t\"WOL\"]]\n",
    "x=df[['Dast','Dreb','DStl','DBlk','DFGPerc','DFGPerc3','DFTP','DTO',\"ARG\",\t\"BIH\",\t\"COL\",\t\"DOL\",\t\"DUN\",\t\"JNG\",\t\"MAS\",\t\"MOR\",\t\"POM\",\t\"RPI\",\t\"RTH\",\t\"SAG\",\t\"SEL\",\t\"WLK\",\t\"WOB\",\t\"WOL\"]]"
   ]
  },
  {
   "cell_type": "code",
   "execution_count": 310,
   "metadata": {
    "colab": {},
    "colab_type": "code",
    "id": "oAbURFLAldc_"
   },
   "outputs": [],
   "source": [
    "y_2019 = df_2019[['LowerWin']]\n",
    "y_prior=df_prior[['LowerWin']]\n",
    "y=df[['LowerWin']]"
   ]
  },
  {
   "cell_type": "code",
   "execution_count": 311,
   "metadata": {
    "colab": {},
    "colab_type": "code",
    "id": "4UP8J_KYljew"
   },
   "outputs": [],
   "source": [
    "from sklearn.model_selection import train_test_split"
   ]
  },
  {
   "cell_type": "code",
   "execution_count": 312,
   "metadata": {
    "colab": {},
    "colab_type": "code",
    "id": "vPcnlHqWlljX"
   },
   "outputs": [],
   "source": [
    "x_train,x_test,y_train,y_test=train_test_split(x,y,test_size=0.2,random_state=42) "
   ]
  },
  {
   "cell_type": "markdown",
   "metadata": {
    "colab_type": "text",
    "id": "CrLC0iQ_loJ6"
   },
   "source": [
    "Logistic Regression:"
   ]
  },
  {
   "cell_type": "code",
   "execution_count": 313,
   "metadata": {
    "colab": {},
    "colab_type": "code",
    "id": "xh2aTFfTv6p6"
   },
   "outputs": [],
   "source": [
    "def normalize(data):\n",
    "  norm_rank = data[[\"ARG\",\t\"BIH\",\t\"COL\",\t\"DOL\",\t\"DUN\",\t\"JNG\",\t\"MAS\",\t\"MOR\",\t\"POM\",\t\"RPI\",\t\t\"RTH\",\t\"SAG\",\t\"SEL\",\t\"WLK\",\t\"WOB\",\t\"WOL\"]]/347\n",
    "  Dast_norm = data[['Dast']]/data['Dast'].max()\n",
    "  Dreb_norm = data[['Dreb']]/data['Dreb'].max()\n",
    "  DStl_norm = data[['DStl']]/data['DStl'].max()\n",
    "  DBlk_norm = data[['DBlk']]/data['DBlk'].max()\n",
    "  DFGPerc_norm = data[['DFGPerc']]/data['DFGPerc'].max()\n",
    "  DFGPerc3_norm = data[['DFGPerc3']]/data['DFGPerc3'].max()\n",
    "  DFTP_norm = data[['DFTP']]/data['DFTP'].max()\n",
    "  DTO_norm = data[['DTO']]/data['DTO'].max()\n",
    "  normalized = pd.concat([norm_rank,Dast_norm,Dreb_norm,DStl_norm,DBlk_norm,DFGPerc_norm,DFGPerc3_norm,DFTP_norm,DTO_norm],axis=1)\n",
    "  return normalized"
   ]
  },
  {
   "cell_type": "code",
   "execution_count": 314,
   "metadata": {
    "colab": {},
    "colab_type": "code",
    "id": "nvSIwlpUPV22"
   },
   "outputs": [],
   "source": [
    "# Normalize X-train\n",
    "# divide rankings by number of teams\n",
    "x_norm = normalize(x)\n",
    "x_train_norm,x_test_norm,y_train_norm,y_test_norm=train_test_split(x_norm,y,test_size=0.2,random_state=42) "
   ]
  },
  {
   "cell_type": "code",
   "execution_count": 315,
   "metadata": {
    "colab": {
     "base_uri": "https://localhost:8080/",
     "height": 156
    },
    "colab_type": "code",
    "id": "On5RFXF4loo0",
    "outputId": "fd94344d-1fcf-41cf-b8a4-ffb6994fca39"
   },
   "outputs": [],
   "source": [
    "from sklearn.linear_model import LogisticRegression\n",
    "logmodel=LogisticRegression()\n",
    "logmodel.fit(x_train_norm,y_train_norm);"
   ]
  },
  {
   "cell_type": "code",
   "execution_count": 316,
   "metadata": {
    "colab": {},
    "colab_type": "code",
    "id": "YRvtt-OI52dB"
   },
   "outputs": [],
   "source": [
    "from sklearn.metrics import roc_auc_score\n",
    "predictions_logistic=logmodel.predict(x_test_norm)\n",
    "probabilities_logistic = logmodel.predict_proba(x_test_norm)\n",
    "auc_logistic = roc_auc_score(y_test, probabilities_logistic[:,1])"
   ]
  },
  {
   "cell_type": "markdown",
   "metadata": {
    "colab_type": "text",
    "id": "-e_PiFfS52dE"
   },
   "source": [
    "Run a classification report"
   ]
  },
  {
   "cell_type": "code",
   "execution_count": 317,
   "metadata": {
    "colab": {},
    "colab_type": "code",
    "id": "hmgyrIq552dE"
   },
   "outputs": [],
   "source": [
    "from sklearn.metrics import classification_report\n",
    "from sklearn.metrics import roc_curve\n",
    "from sklearn.metrics import roc_auc_score"
   ]
  },
  {
   "cell_type": "code",
   "execution_count": 318,
   "metadata": {
    "colab": {
     "base_uri": "https://localhost:8080/",
     "height": 187
    },
    "colab_type": "code",
    "id": "a1nbjKDV52dH",
    "outputId": "44f3c7d6-bcda-439d-c2e1-5ed23fdf6f8e"
   },
   "outputs": [
    {
     "name": "stdout",
     "output_type": "stream",
     "text": [
      "              precision    recall  f1-score   support\n",
      "\n",
      "           0       0.72      0.74      0.73        98\n",
      "           1       0.73      0.70      0.71        96\n",
      "\n",
      "   micro avg       0.72      0.72      0.72       194\n",
      "   macro avg       0.72      0.72      0.72       194\n",
      "weighted avg       0.72      0.72      0.72       194\n",
      "\n",
      "AUC = 0.8030399659863946\n"
     ]
    }
   ],
   "source": [
    "print(classification_report(y_test_norm,predictions_logistic))\n",
    "print(\"AUC = \" + str(auc_logistic))"
   ]
  },
  {
   "cell_type": "code",
   "execution_count": 319,
   "metadata": {
    "colab": {
     "base_uri": "https://localhost:8080/",
     "height": 282
    },
    "colab_type": "code",
    "id": "DTy6pEF4kC39",
    "outputId": "632a57ff-26b5-4fca-b99b-c780b3260b5e"
   },
   "outputs": [
    {
     "data": {
      "text/plain": [
       "Text(0, 0.5, 'True Positive Rate')"
      ]
     },
     "execution_count": 319,
     "metadata": {},
     "output_type": "execute_result"
    },
    {
     "data": {
      "image/png": "[encoded data removed]",
      "text/plain": [
       "<Figure size 432x288 with 1 Axes>"
      ]
     },
     "metadata": {
      "needs_background": "light"
     },
     "output_type": "display_data"
    }
   ],
   "source": [
    "fpr_log, tpr_log, thresholds_log = roc_curve(y_test, probabilities_logistic[:,1])\n",
    "plt.plot(fpr_log, tpr_log)\n",
    "plt.title('Figure 5: Logistic ROC Curve')\n",
    "plt.xlabel('False Positive Rate')\n",
    "plt.ylabel('True Positive Rate')"
   ]
  },
  {
   "cell_type": "markdown",
   "metadata": {
    "colab_type": "text",
    "id": "reottrZm52dK"
   },
   "source": [
    "Run a confusion matrix"
   ]
  },
  {
   "cell_type": "code",
   "execution_count": 320,
   "metadata": {
    "colab": {},
    "colab_type": "code",
    "id": "1_bE9_3Z52dL"
   },
   "outputs": [],
   "source": [
    "from sklearn.metrics import confusion_matrix"
   ]
  },
  {
   "cell_type": "code",
   "execution_count": 321,
   "metadata": {
    "colab": {
     "base_uri": "https://localhost:8080/",
     "height": 51
    },
    "colab_type": "code",
    "id": "2QANVfxU52dM",
    "outputId": "b0b2dcd3-bd8e-4a2d-848d-e5166b759f98"
   },
   "outputs": [
    {
     "name": "stdout",
     "output_type": "stream",
     "text": [
      "[[73 25]\n",
      " [29 67]]\n"
     ]
    }
   ],
   "source": [
    "print(confusion_matrix(y_test,predictions_logistic))"
   ]
  },
  {
   "cell_type": "code",
   "execution_count": 322,
   "metadata": {
    "colab": {
     "base_uri": "https://localhost:8080/",
     "height": 34
    },
    "colab_type": "code",
    "id": "CZ87zvOx52dP",
    "outputId": "c37ad60f-2434-411e-ec2a-c478f860c6b9"
   },
   "outputs": [
    {
     "name": "stdout",
     "output_type": "stream",
     "text": [
      "Logistic Regression Accuracy (With Ratings):  72.16%\n"
     ]
    }
   ],
   "source": [
    "logistic_accuracy_score=accuracy_score(y_test,predictions_logistic)\n",
    "print('Logistic Regression Accuracy (With Ratings): ',(format(logistic_accuracy_score,\".2%\")))"
   ]
  },
  {
   "cell_type": "markdown",
   "metadata": {
    "colab_type": "text",
    "id": "oCuUuqx752dS"
   },
   "source": [
    "Decision Tree:"
   ]
  },
  {
   "cell_type": "code",
   "execution_count": 323,
   "metadata": {
    "colab": {},
    "colab_type": "code",
    "id": "tgdOdF1v52dS"
   },
   "outputs": [],
   "source": [
    "from sklearn.tree import DecisionTreeClassifier\n",
    "from sklearn.model_selection import train_test_split\n",
    "from sklearn.model_selection import cross_val_score"
   ]
  },
  {
   "cell_type": "code",
   "execution_count": 324,
   "metadata": {
    "colab": {},
    "colab_type": "code",
    "id": "tveCzF6j52dY"
   },
   "outputs": [],
   "source": [
    "x_train,x_test,y_train,y_test=train_test_split(x,y,test_size=0.2,random_state=42) \n",
    "#Random state set for reproducibility"
   ]
  },
  {
   "cell_type": "code",
   "execution_count": 325,
   "metadata": {
    "colab": {},
    "colab_type": "code",
    "id": "adxpACbg52da"
   },
   "outputs": [],
   "source": [
    "tree_model=DecisionTreeClassifier(max_depth=10)"
   ]
  },
  {
   "cell_type": "code",
   "execution_count": 326,
   "metadata": {
    "colab": {
     "base_uri": "https://localhost:8080/",
     "height": 34
    },
    "colab_type": "code",
    "id": "lsXAHkvb52dd",
    "outputId": "b5ac3cd4-46b0-4fbd-8d18-0ef7cb2941b8"
   },
   "outputs": [
    {
     "name": "stdout",
     "output_type": "stream",
     "text": [
      "Cross Validated Accuracy: 0.631 +/- 0.056\n"
     ]
    }
   ],
   "source": [
    "scores=cross_val_score(tree_model,x_train,y_train,scoring=\"accuracy\",cv=10)\n",
    "print(\"Cross Validated Accuracy: %0.3f +/- %0.3f\" % (scores.mean(),scores.std()))"
   ]
  },
  {
   "cell_type": "code",
   "execution_count": 327,
   "metadata": {
    "colab": {},
    "colab_type": "code",
    "id": "q3NGTQMb52do"
   },
   "outputs": [],
   "source": [
    "tree_model=DecisionTreeClassifier(max_depth=10)\n",
    "tree_model.fit(x_train,y_train)\n",
    "predictions=tree_model.predict(x_test)\n",
    "probabilities_tree = tree_model.predict_proba(x_test)\n",
    "auc_tree = roc_auc_score(y_test, probabilities_tree[:,1])"
   ]
  },
  {
   "cell_type": "code",
   "execution_count": 328,
   "metadata": {
    "colab": {
     "base_uri": "https://localhost:8080/",
     "height": 282
    },
    "colab_type": "code",
    "id": "9l_1rekBmJcg",
    "outputId": "3c4f367f-31a6-4758-8975-f14b55742ef4"
   },
   "outputs": [
    {
     "data": {
      "text/plain": [
       "Text(0, 0.5, 'True Positive Rate')"
      ]
     },
     "execution_count": 328,
     "metadata": {},
     "output_type": "execute_result"
    },
    {
     "data": {
      "image/png": "[encoded data removed]",
      "text/plain": [
       "<Figure size 432x288 with 1 Axes>"
      ]
     },
     "metadata": {
      "needs_background": "light"
     },
     "output_type": "display_data"
    }
   ],
   "source": [
    "fpr_tree, tpr_tree, thresholds_tree = roc_curve(y_test, probabilities_tree[:,1])\n",
    "plt.plot(fpr_tree, tpr_tree)\n",
    "plt.title('Figure 6: Decision Tree ROC Curve')\n",
    "plt.xlabel('False Positive Rate')\n",
    "plt.ylabel('True Positive Rate')"
   ]
  },
  {
   "cell_type": "code",
   "execution_count": 329,
   "metadata": {
    "colab": {},
    "colab_type": "code",
    "id": "VKHpYgPD52dx"
   },
   "outputs": [],
   "source": [
    "DT_accuracy_score=accuracy_score(y_test,predictions)"
   ]
  },
  {
   "cell_type": "code",
   "execution_count": 330,
   "metadata": {
    "colab": {
     "base_uri": "https://localhost:8080/",
     "height": 51
    },
    "colab_type": "code",
    "id": "snWRYCuq52dy",
    "outputId": "0ebd6ba2-7dab-4275-ff5f-9ca61b8f53a1"
   },
   "outputs": [
    {
     "name": "stdout",
     "output_type": "stream",
     "text": [
      "Decision Tree Accuracy (With Ratings):  64.43%\n",
      "Decision Tree AUC = 0.6339285714285715\n"
     ]
    }
   ],
   "source": [
    "print('Decision Tree Accuracy (With Ratings): ',(format(DT_accuracy_score,\".2%\")))\n",
    "print('Decision Tree AUC = ' + str(auc_tree))"
   ]
  },
  {
   "cell_type": "markdown",
   "metadata": {
    "colab_type": "text",
    "id": "3JLJPA4I52d1"
   },
   "source": [
    "Random Forest:"
   ]
  },
  {
   "cell_type": "code",
   "execution_count": 331,
   "metadata": {
    "colab": {},
    "colab_type": "code",
    "id": "5tRxbeAU52d2"
   },
   "outputs": [],
   "source": [
    "from sklearn.ensemble import RandomForestClassifier"
   ]
  },
  {
   "cell_type": "code",
   "execution_count": 332,
   "metadata": {
    "colab": {},
    "colab_type": "code",
    "id": "mTvpGRml52d5"
   },
   "outputs": [],
   "source": [
    "forest_model = RandomForestClassifier(n_estimators=200)"
   ]
  },
  {
   "cell_type": "code",
   "execution_count": 333,
   "metadata": {
    "colab": {
     "base_uri": "https://localhost:8080/",
     "height": 377
    },
    "colab_type": "code",
    "id": "AyzMHgRzoJWq",
    "outputId": "e67bc9c8-54b5-437a-e46b-9da8c9ebcb13"
   },
   "outputs": [],
   "source": [
    "scores=cross_val_score(forest_model,x_train,y_train,scoring=\"accuracy\",cv=10);"
   ]
  },
  {
   "cell_type": "code",
   "execution_count": 156,
   "metadata": {
    "colab": {
     "base_uri": "https://localhost:8080/",
     "height": 34
    },
    "colab_type": "code",
    "id": "0WL8wKfY52d_",
    "outputId": "b3f412f1-c3e8-4de6-c820-8b67d6ecac9c"
   },
   "outputs": [
    {
     "name": "stdout",
     "output_type": "stream",
     "text": [
      "Cross Validated Accuracy: 0.695 +/- 0.050\n"
     ]
    }
   ],
   "source": [
    "print(\"Cross Validated Accuracy: %0.3f +/- %0.3f\" % (scores.mean(),scores.std()))"
   ]
  },
  {
   "cell_type": "code",
   "execution_count": 334,
   "metadata": {
    "colab": {
     "base_uri": "https://localhost:8080/",
     "height": 207
    },
    "colab_type": "code",
    "id": "nn-VgQq452eA",
    "outputId": "97cb611c-0780-4e14-fec8-ba5d8eb05e9a"
   },
   "outputs": [],
   "source": [
    "%%capture\n",
    "forest_model.fit(x_train,y_train);"
   ]
  },
  {
   "cell_type": "code",
   "execution_count": 335,
   "metadata": {
    "colab": {},
    "colab_type": "code",
    "id": "u4WEUsuG52eC"
   },
   "outputs": [],
   "source": [
    "predictions_forest=forest_model.predict(x_test)\n",
    "probabilities_forest = forest_model.predict_proba(x_test)\n",
    "auc_forest = roc_auc_score(y_test, probabilities_forest[:,1])"
   ]
  },
  {
   "cell_type": "code",
   "execution_count": 336,
   "metadata": {
    "colab": {
     "base_uri": "https://localhost:8080/",
     "height": 170
    },
    "colab_type": "code",
    "id": "Ytwpnpg052eG",
    "outputId": "0e29e66a-724f-4bc7-e271-05f6ff08c6ac"
   },
   "outputs": [
    {
     "name": "stdout",
     "output_type": "stream",
     "text": [
      "              precision    recall  f1-score   support\n",
      "\n",
      "           0       0.72      0.70      0.71        98\n",
      "           1       0.70      0.72      0.71        96\n",
      "\n",
      "   micro avg       0.71      0.71      0.71       194\n",
      "   macro avg       0.71      0.71      0.71       194\n",
      "weighted avg       0.71      0.71      0.71       194\n",
      "\n"
     ]
    }
   ],
   "source": [
    "print(classification_report(y_test,predictions_forest))"
   ]
  },
  {
   "cell_type": "code",
   "execution_count": 337,
   "metadata": {
    "colab": {
     "base_uri": "https://localhost:8080/",
     "height": 316
    },
    "colab_type": "code",
    "id": "ZHjAGCnU52ey",
    "outputId": "1f35b91f-90fb-4e7f-bd8a-f65df688eeb1"
   },
   "outputs": [
    {
     "name": "stdout",
     "output_type": "stream",
     "text": [
      "Random Forest Accuracy (With Ratings):  71.13%\n",
      "AUC = 0.8030399659863946\n"
     ]
    },
    {
     "data": {
      "text/plain": [
       "Text(0, 0.5, 'True Positive Rate')"
      ]
     },
     "execution_count": 337,
     "metadata": {},
     "output_type": "execute_result"
    },
    {
     "data": {
      "image/png": "[encoded data removed]",
      "text/plain": [
       "<Figure size 432x288 with 1 Axes>"
      ]
     },
     "metadata": {
      "needs_background": "light"
     },
     "output_type": "display_data"
    }
   ],
   "source": [
    "RF_accuracy_score=accuracy_score(y_test,predictions_forest)\n",
    "print('Random Forest Accuracy (With Ratings): ',(format(RF_accuracy_score,\".2%\")))\n",
    "print(\"AUC = \" + str(auc_logistic))\n",
    "fpr_forest, tpr_forest, thresholds_forest = roc_curve(y_test, probabilities_forest[:,1])\n",
    "plt.plot(fpr_forest, tpr_forest)\n",
    "plt.title('Figure 7: Random Forest ROC Curve')\n",
    "plt.xlabel('False Positive Rate')\n",
    "plt.ylabel('True Positive Rate')"
   ]
  },
  {
   "cell_type": "markdown",
   "metadata": {
    "colab_type": "text",
    "id": "NoNY5MQJ52f_"
   },
   "source": [
    "Support Vector Machine:"
   ]
  },
  {
   "cell_type": "code",
   "execution_count": 338,
   "metadata": {
    "colab": {},
    "colab_type": "code",
    "id": "dlw0aHFV52gA"
   },
   "outputs": [],
   "source": [
    "from sklearn.svm import SVC"
   ]
  },
  {
   "cell_type": "code",
   "execution_count": 339,
   "metadata": {
    "colab": {},
    "colab_type": "code",
    "id": "byrBO2gA52gC"
   },
   "outputs": [],
   "source": [
    "svc_model=SVC()"
   ]
  },
  {
   "cell_type": "code",
   "execution_count": 340,
   "metadata": {
    "colab": {},
    "colab_type": "code",
    "id": "1bnUMRyK52gE"
   },
   "outputs": [],
   "source": [
    "x_train,x_test,y_train,y_test=train_test_split(x,y,test_size=0.2,random_state=42) \n",
    "#Random state set for reproducibility"
   ]
  },
  {
   "cell_type": "code",
   "execution_count": 343,
   "metadata": {
    "colab": {
     "base_uri": "https://localhost:8080/",
     "height": 139
    },
    "colab_type": "code",
    "id": "PfyA3Rxz52gG",
    "outputId": "80bb5771-aa92-4eaf-e438-ece00ea32f36"
   },
   "outputs": [],
   "source": [
    "svc_model.fit(x_train,y_train);"
   ]
  },
  {
   "cell_type": "code",
   "execution_count": 344,
   "metadata": {
    "colab": {
     "base_uri": "https://localhost:8080/",
     "height": 34
    },
    "colab_type": "code",
    "id": "eb0ut_gm52gL",
    "outputId": "24c477a6-a906-4751-e2b3-01bceed37bc6"
   },
   "outputs": [
    {
     "name": "stdout",
     "output_type": "stream",
     "text": [
      "AUC = 0.7887967687074829\n"
     ]
    }
   ],
   "source": [
    "predictions_svc=svc_model.predict(x_test)\n",
    "probabilities_svc = logmodel.predict_proba(x_test)\n",
    "auc_svc = roc_auc_score(y_test, probabilities_svc[:,1])\n",
    "print(\"AUC = \" + str(auc_svc))"
   ]
  },
  {
   "cell_type": "code",
   "execution_count": 345,
   "metadata": {
    "colab": {
     "base_uri": "https://localhost:8080/",
     "height": 282
    },
    "colab_type": "code",
    "id": "43X6ppXbpVCG",
    "outputId": "fbc88f0f-9d30-4e61-9c1d-2c55dc64ae50"
   },
   "outputs": [
    {
     "data": {
      "text/plain": [
       "Text(0, 0.5, 'True Positive Rate')"
      ]
     },
     "execution_count": 345,
     "metadata": {},
     "output_type": "execute_result"
    },
    {
     "data": {
      "image/png": "[encoded data removed]",
      "text/plain": [
       "<Figure size 432x288 with 1 Axes>"
      ]
     },
     "metadata": {
      "needs_background": "light"
     },
     "output_type": "display_data"
    }
   ],
   "source": [
    "fpr_svc, tpr_svc, thresholds_svc = roc_curve(y_test, probabilities_svc[:,1])\n",
    "plt.plot(fpr_svc, tpr_svc)\n",
    "plt.title('Figure 8: SVM ROC Curve')\n",
    "plt.xlabel('False Positive Rate')\n",
    "plt.ylabel('True Positive Rate')"
   ]
  },
  {
   "cell_type": "code",
   "execution_count": 346,
   "metadata": {
    "colab": {},
    "colab_type": "code",
    "id": "7Kjmadhv52gO"
   },
   "outputs": [],
   "source": [
    "from sklearn.model_selection import GridSearchCV"
   ]
  },
  {
   "cell_type": "code",
   "execution_count": 347,
   "metadata": {
    "colab": {},
    "colab_type": "code",
    "id": "qlS2XSvp52gR"
   },
   "outputs": [],
   "source": [
    "param_grid={'C':[1],'gamma':[.0001]}"
   ]
  },
  {
   "cell_type": "code",
   "execution_count": 348,
   "metadata": {
    "colab": {},
    "colab_type": "code",
    "id": "WOQbC8ME52gV"
   },
   "outputs": [],
   "source": [
    "grid=GridSearchCV(SVC(),param_grid,verbose=3)"
   ]
  },
  {
   "cell_type": "code",
   "execution_count": 349,
   "metadata": {
    "colab": {
     "base_uri": "https://localhost:8080/",
     "height": 666
    },
    "colab_type": "code",
    "id": "jlmzsYMs52gX",
    "outputId": "1555dde5-dffa-4f4f-e2c6-cd0dea93d54f"
   },
   "outputs": [],
   "source": [
    "%%capture\n",
    "grid.fit(x_train,y_train);"
   ]
  },
  {
   "cell_type": "code",
   "execution_count": 350,
   "metadata": {
    "colab": {
     "base_uri": "https://localhost:8080/",
     "height": 34
    },
    "colab_type": "code",
    "id": "SqV5WvQb52ga",
    "outputId": "054e2f1e-1114-48bf-b72e-5ae89f50ef45"
   },
   "outputs": [],
   "source": [
    "grid.best_params_;"
   ]
  },
  {
   "cell_type": "code",
   "execution_count": 351,
   "metadata": {
    "colab": {
     "base_uri": "https://localhost:8080/",
     "height": 85
    },
    "colab_type": "code",
    "id": "-RHUnGax52gi",
    "outputId": "2d338e79-6f3f-4899-be56-33685b747a44"
   },
   "outputs": [],
   "source": [
    "grid.best_estimator_;"
   ]
  },
  {
   "cell_type": "code",
   "execution_count": 352,
   "metadata": {
    "colab": {},
    "colab_type": "code",
    "id": "XlVe1SaP52gl"
   },
   "outputs": [],
   "source": [
    "grid_predictions=grid.predict(x_test)"
   ]
  },
  {
   "cell_type": "code",
   "execution_count": 353,
   "metadata": {
    "colab": {},
    "colab_type": "code",
    "id": "76l6lFhr52gq"
   },
   "outputs": [],
   "source": [
    "SVM_accuracy_score=accuracy_score(y_test,grid_predictions)"
   ]
  },
  {
   "cell_type": "code",
   "execution_count": 354,
   "metadata": {
    "colab": {
     "base_uri": "https://localhost:8080/",
     "height": 34
    },
    "colab_type": "code",
    "id": "f02vDfSu52gt",
    "outputId": "ebf620cc-347e-4611-9aa4-2f51ecb0cc62"
   },
   "outputs": [
    {
     "name": "stdout",
     "output_type": "stream",
     "text": [
      "SVM Accuracy (With Ratings):  69.59%\n"
     ]
    }
   ],
   "source": [
    "print('SVM Accuracy (With Ratings): ',(format(SVM_accuracy_score,\".2%\")))"
   ]
  },
  {
   "cell_type": "markdown",
   "metadata": {
    "colab_type": "text",
    "id": "IrLnBrCq52gx"
   },
   "source": [
    "We compare accuracy results, this time incorporating ratings."
   ]
  },
  {
   "cell_type": "code",
   "execution_count": 355,
   "metadata": {
    "colab": {},
    "colab_type": "code",
    "id": "OBKlFJLO52gy"
   },
   "outputs": [],
   "source": [
    "df_accuracies=pd.DataFrame({\"Machine Learning Algorithm\":\n",
    "                 ['Logistic Regression',\n",
    "                 'Decision Trees','Random Forest',\n",
    "                 'Support Vector Machine'],\n",
    "                 \"Accuracy\":[logistic_accuracy_score,DT_accuracy_score,\n",
    "                            RF_accuracy_score,SVM_accuracy_score]})"
   ]
  },
  {
   "cell_type": "code",
   "execution_count": 356,
   "metadata": {
    "colab": {},
    "colab_type": "code",
    "id": "dzOBZlSK52g4"
   },
   "outputs": [],
   "source": [
    "df_accuracies.set_index('Machine Learning Algorithm',inplace=True)\n",
    "pd.options.display.float_format = '{:.2f}%'.format"
   ]
  },
  {
   "cell_type": "code",
   "execution_count": 357,
   "metadata": {
    "colab": {},
    "colab_type": "code",
    "id": "6hvLgDFy52g6"
   },
   "outputs": [],
   "source": [
    "df_accuracies['Accuracy']=round(df_accuracies['Accuracy'],3)"
   ]
  },
  {
   "cell_type": "code",
   "execution_count": 358,
   "metadata": {
    "colab": {
     "base_uri": "https://localhost:8080/",
     "height": 204
    },
    "colab_type": "code",
    "id": "Wr2sgZbg52g-",
    "outputId": "2725eaff-169c-4264-db8c-934fb6f8ce55"
   },
   "outputs": [
    {
     "data": {
      "text/html": [
       "<div>\n",
       "<style scoped>\n",
       "    .dataframe tbody tr th:only-of-type {\n",
       "        vertical-align: middle;\n",
       "    }\n",
       "\n",
       "    .dataframe tbody tr th {\n",
       "        vertical-align: top;\n",
       "    }\n",
       "\n",
       "    .dataframe thead th {\n",
       "        text-align: right;\n",
       "    }\n",
       "</style>\n",
       "<table border=\"1\" class=\"dataframe\">\n",
       "  <thead>\n",
       "    <tr style=\"text-align: right;\">\n",
       "      <th></th>\n",
       "      <th>Accuracy</th>\n",
       "    </tr>\n",
       "    <tr>\n",
       "      <th>Machine Learning Algorithm</th>\n",
       "      <th></th>\n",
       "    </tr>\n",
       "  </thead>\n",
       "  <tbody>\n",
       "    <tr>\n",
       "      <th>Logistic Regression</th>\n",
       "      <td>0.72%</td>\n",
       "    </tr>\n",
       "    <tr>\n",
       "      <th>Decision Trees</th>\n",
       "      <td>0.64%</td>\n",
       "    </tr>\n",
       "    <tr>\n",
       "      <th>Random Forest</th>\n",
       "      <td>0.71%</td>\n",
       "    </tr>\n",
       "    <tr>\n",
       "      <th>Support Vector Machine</th>\n",
       "      <td>0.70%</td>\n",
       "    </tr>\n",
       "  </tbody>\n",
       "</table>\n",
       "</div>"
      ],
      "text/plain": [
       "                            Accuracy\n",
       "Machine Learning Algorithm          \n",
       "Logistic Regression            0.72%\n",
       "Decision Trees                 0.64%\n",
       "Random Forest                  0.71%\n",
       "Support Vector Machine         0.70%"
      ]
     },
     "execution_count": 358,
     "metadata": {},
     "output_type": "execute_result"
    }
   ],
   "source": [
    "df_accuracies"
   ]
  },
  {
   "cell_type": "markdown",
   "metadata": {
    "colab": {
     "base_uri": "https://localhost:8080/",
     "height": 622
    },
    "colab_type": "code",
    "id": "OhAnFCE352hB",
    "outputId": "f894a48b-289c-4e3b-e6e5-d8a8ced094b7"
   },
   "source": [
    "Our best performing model is a Logistic Regression, with 72% accuracy once we factor in Ratings. This analysis is reasonably replicable in \"real life\", as we have box score data and ratings going into every tournament game."
   ]
  },
  {
   "cell_type": "code",
   "execution_count": 359,
   "metadata": {
    "colab": {
     "base_uri": "https://localhost:8080/",
     "height": 282
    },
    "colab_type": "code",
    "id": "qz_EKh-7pB6W",
    "outputId": "b58bdfab-50cc-4604-9d1e-eb8734d559e9"
   },
   "outputs": [
    {
     "data": {
      "text/plain": [
       "Text(0, 0.5, 'True Positive Rate')"
      ]
     },
     "execution_count": 359,
     "metadata": {},
     "output_type": "execute_result"
    },
    {
     "data": {
      "image/png": "[encoded data removed]",
      "text/plain": [
       "<Figure size 432x288 with 1 Axes>"
      ]
     },
     "metadata": {
      "needs_background": "light"
     },
     "output_type": "display_data"
    }
   ],
   "source": [
    "plt.plot(fpr_log, tpr_log, label=\"Logistic Regression\")\n",
    "plt.plot(fpr_tree, tpr_tree, label=\"Decision Tree\")\n",
    "plt.plot(fpr_forest, tpr_forest, label=\"Random Forest\")\n",
    "plt.plot(fpr_svc, tpr_svc, label=\"Support Vector Machine\")\n",
    "plt.legend()\n",
    "plt.title('Figure 9: ROC Curve Analysis')\n",
    "plt.xlabel('False Positive Rate')\n",
    "plt.ylabel('True Positive Rate')"
   ]
  },
  {
   "cell_type": "markdown",
   "metadata": {
    "colab_type": "text",
    "id": "cZY_T52SycB2"
   },
   "source": [
    "## SECTION 5: Deployment"
   ]
  },
  {
   "cell_type": "markdown",
   "metadata": {
    "colab_type": "text",
    "id": "u3b4Rh_RymVx"
   },
   "source": [
    "The purpose of this section is to see how effective our model would be if we were to use it to place bets on the NCAA tournament. For each game we look up the money line odds for each team. We chose to use the money line because it only requires us to choose a team, unlike a point spread which would require us to determine how many points a team will win or lose by.\n",
    "\n",
    "From the money line we have calculated the ratio of the bet that will be earned if we are correct. We will call this the winnings ratio. This is typically less than 1 for the favorite and more than 1 for the underdog. Below we have broken down the expected value in the 4 possible scenarios.\n",
    "\n",
    "Correct bet: Win Bet Amount * winnings ratio\n",
    "\n",
    "Incorrect bet: Lose Bet Amount\n",
    "\n",
    "Correct no bet: 0\n",
    "\n",
    "Incorrect no bet: 0\n",
    "\n",
    "Expected Value of a bet = win_probability * Correct bet - Lose probability\n",
    "\n",
    "This time I train the model on all of the data prior to the 2019 tournament and test using the 2019 tournament. Since we did not have an NCAA tournament this year this is the best simulation for a deployment of the model. I choose to bet on a team if it's expected value is above some threshold and it is greater than the value of choosing the other team."
   ]
  },
  {
   "cell_type": "code",
   "execution_count": 348,
   "metadata": {
    "colab": {},
    "colab_type": "code",
    "id": "oCNTfOVx2KBv"
   },
   "outputs": [],
   "source": [
    "# Function to calculate amount the model would have won in 2019\n",
    "def calc_winnings(probabilities, lower_threshold, lower_win, lower_win_ratio, higher_win_ratio):\n",
    "  BET_AMOUNT = 100\n",
    "  # probability of higher ID team winning\n",
    "  higher_prob = probabilities[:,0]\n",
    "  # probability of lower ID team winning\n",
    "  lower_prob = probabilities[:,1]\n",
    "  # games the higher ID team won\n",
    "  higher_win = -1 * (lower_win-1)\n",
    "\n",
    "  # calculate expected value of bet on each team\n",
    "  lower_expected_value = lower_prob * lower_win_ratio - higher_prob\n",
    "  higher_expected_value = higher_prob * higher_win_ratio - lower_prob\n",
    "\n",
    "  # pick team if expected value is above threshold and greater than picking the other team\n",
    "  pick_lower = (lower_expected_value>higher_expected_value) & (lower_expected_value>lower_threshold)\n",
    "  pick_higher = (higher_expected_value>lower_expected_value) & (higher_expected_value>lower_threshold)\n",
    "\n",
    "  correct_lower = pick_lower * lower_win\n",
    "  correct_higher = pick_higher * higher_win\n",
    "  correct_picks = sum(correct_lower.astype(int)) + sum(correct_higher.astype(int))\n",
    "\n",
    "  count_lower = sum(pick_lower.astype(int))\n",
    "  count_higher = sum(pick_higher.astype(int))\n",
    "\n",
    "  total_bets = count_lower + count_higher\n",
    "  amount_at_risk = BET_AMOUNT * total_bets\n",
    "  accuracy = correct_picks/total_bets\n",
    "\n",
    "  winnings = sum(pick_lower.astype(int)* lower_win * (BET_AMOUNT*lower_win_ratio + BET_AMOUNT)) + sum(pick_higher.astype(int)* higher_win * (BET_AMOUNT * higher_win_ratio + BET_AMOUNT)) - amount_at_risk\n",
    "  return winnings, amount_at_risk, accuracy"
   ]
  },
  {
   "cell_type": "code",
   "execution_count": null,
   "metadata": {
    "colab": {
     "base_uri": "https://localhost:8080/",
     "height": 938
    },
    "colab_type": "code",
    "id": "8xl475AU5sP_",
    "outputId": "df763fdb-fe45-470c-d57d-59f6f95d5cd1"
   },
   "outputs": [],
   "source": [
    "%%capture\n",
    "# Train on all data prior to 2019\n",
    "# Normalize X prior to 2019\n",
    "x_norm_prior = normalize(x_prior)\n",
    "\n",
    "# Normalize 2019 data\n",
    "x_norm_2019 = normalize(x_2019)\n",
    "\n",
    "# Train model\n",
    "log_model_prior = LogisticRegression()\n",
    "log_model_prior.fit(x_norm_prior,y_prior)\n",
    "\n",
    "# Get win probabilites for each team in 2019 tournament\n",
    "logistic_probabilities_2019 = log_model_prior.predict_proba(x_norm_2019)\n",
    "\n",
    "print(\"2019 Performance\")\n",
    "thresholds = [0,.1,.2,.3,.4,.5,.6,.7,.8,.9]\n",
    "for threshold in thresholds:\n",
    "  winnings, amount_at_risk, accuracy = calc_winnings(logistic_probabilities_2019, threshold , y_2019['LowerWin'],df_2019['Lower Payout'], df_2019['Higher Payout'])\n",
    "  print(\"\\nLogistic Regression with Threshold \" + str(threshold) + \"\\n\"+str(winnings) + \" won/lost on bets of \" + str(amount_at_risk) + \"\\nROI = \" + str(winnings/amount_at_risk))\n",
    "  print(\"Pick Accuracy = \" + str(accuracy));"
   ]
  },
  {
   "cell_type": "markdown",
   "metadata": {},
   "source": [
    "2019 Performance\n",
    "\n",
    "Logistic Regression with Threshold 0\n",
    "-558.8030989238132 won/lost on bets of 5100\n",
    "\n",
    "ROI = -0.10956923508310062\n",
    "\n",
    "Pick Accuracy = 0.47058823529411764\n",
    "\n",
    "\n",
    "Logistic Regression with Threshold 0.1\n",
    "-592.9260532649823 won/lost on bets of 3300\n",
    "\n",
    "ROI = -0.1796745615954492\n",
    "\n",
    "Pick Accuracy = 0.36363636363636365\n",
    "\n",
    "\n",
    "Logistic Regression with Threshold 0.2\n",
    "71.1027237134349 won/lost on bets of 2500\n",
    "\n",
    "ROI = 0.02844108948537396\n",
    "\n",
    "Pick Accuracy = 0.44\n",
    "\n",
    "\n",
    "Logistic Regression with Threshold 0.3\n",
    "265.1395348837209 won/lost on bets of 2000\n",
    "\n",
    "ROI = 0.13256976744186044\n",
    "\n",
    "Pick Accuracy = 0.45\n",
    "\n",
    "\n",
    "Logistic Regression with Threshold 0.4\n",
    "-219.0 won/lost on bets of 1300\n",
    "\n",
    "ROI = -0.16846153846153847\n",
    "\n",
    "Pick Accuracy = 0.3076923076923077\n",
    "\n",
    "\n",
    "Logistic Regression with Threshold 0.5\n",
    "-237.0 won/lost on bets of 800\n",
    "\n",
    "ROI = -0.29625\n",
    "\n",
    "Pick Accuracy = 0.25\n",
    "\n",
    "\n",
    "Logistic Regression with Threshold 0.6\n",
    "-348.0 won/lost on bets of 600\n",
    "\n",
    "ROI = -0.58\n",
    "\n",
    "Pick Accuracy = 0.16666666666666666\n",
    "\n",
    "\n",
    "Logistic Regression with Threshold 0.7\n",
    "-500.0 won/lost on bets of 500\n",
    "\n",
    "ROI = -1.0\n",
    "\n",
    "Pick Accuracy = 0.0\n",
    "\n",
    "\n",
    "Logistic Regression with Threshold 0.8\n",
    "-300.0 won/lost on bets of 300\n",
    "\n",
    "ROI = -1.0\n",
    "\n",
    "Pick Accuracy = 0.0\n",
    "\n",
    "\n",
    "Logistic Regression with Threshold 0.9\n",
    "-200.0 won/lost on bets of 200\n",
    "\n",
    "ROI = -1.0\n",
    "\n",
    "Pick Accuracy = 0.0"
   ]
  },
  {
   "cell_type": "markdown",
   "metadata": {
    "colab_type": "text",
    "id": "BOVF9pFm0XcI"
   },
   "source": [
    "## Section 6: Conclusion"
   ]
  },
  {
   "cell_type": "markdown",
   "metadata": {
    "colab_type": "text",
    "id": "BY6IQgX70XcJ"
   },
   "source": [
    "Before pulling in rating information, we were able to achieve 63% accuracy with Logistic Regression (and close to this with other machine learning algorithms). We enhanced our model by pulling in Rating data from an outside source, and after pulling in rating information, we were able to achieve 72% accuracy with Logistic Regression. We tuned various models using GridSearch to optimize the model parameters to achieve this accuracy. We also calculated how much we could win by using this strategy. This requires a cost benefit analysis that takes into account the expected value of different outcomes. We found that our model could generate a return, but this is largely dependent on where we choose to set a threshold for expected value. The higher we set the expected value threshold the less diversified we become.\n",
    "\n",
    "We spent an extensive amount of time on our modeling and on processing the data in a way that is effective. That said, if we were fleshing out the project further we would (1) spend more time figuring out how to deal with home-court advantage (which effects regular season games but is not easy to quantify in the tournament games), (2) incorporate player-level statistics in our model prediction (this would be a massive undertaking but would likely be insightful), (3) incorporate days off or rest in the model, (4) incorporate injuries in the model, and (5) incorporate coaches in the model (6) Manually add the money line for every year to find the best threshold location.\n",
    "\n",
    "Clearly, there is an abundance of ways in which we could branch with this project. This paper showed us that it is possible to build an accurate model with time, hard work and patience."
   ]
  }
 ],
 "metadata": {
  "colab": {
   "collapsed_sections": [],
   "name": "March_Madness_Project_May_9.ipynb",
   "provenance": []
  },
  "kernelspec": {
   "display_name": "Python 3",
   "language": "python",
   "name": "python3"
  },
  "language_info": {
   "codemirror_mode": {
    "name": "ipython",
    "version": 3
   },
   "file_extension": ".py",
   "mimetype": "text/x-python",
   "name": "python",
   "nbconvert_exporter": "python",
   "pygments_lexer": "ipython3",
   "version": "3.7.3"
  }
 },
 "nbformat": 4,
 "nbformat_minor": 1
}
